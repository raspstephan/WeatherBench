{
 "cells": [
  {
   "cell_type": "markdown",
   "metadata": {},
   "source": [
    "# Implement probabilistic scores for ensemble forecasts\n",
    " \n",
    "Now let's implement the ensemble scores. Please refer to the Dropbox document for their definition. \n",
    "\n",
    "1. Spread/Skill ratio: As mentioned in Scher and Messori (2020) there is a right way to do the order of the computations. Read their paragraph on it.\n",
    "2. CRPS: Try the `properscoring` package. This one should be good.\n",
    "3. Rank histogram: Try the `rankhistogram` package. No idea if this one is good. If it's ok but requires minor changes, we can consider a pull request. Otherwise, let's just write our own implementation. \n",
    "\n",
    "For all three scores:\n",
    "- Use `xarray` as much as possible. Write a function similar to `src.score.compute_weighted_rmse.py`. \n",
    "- Ignore the weighted part at first.\n",
    "- Create simple synthetic datasets to test extreme cases. E.g. `ensemble = [1, 1, 1]`, `obs=[1]` should result in a CRPS of 0. Think about what good sanity checks are for each score. For the rank histogram, for example, try to build examples that should end up in the shapes from the Dropbox document (overdispersion, underdispersion, etc.)\n",
    "- Test the three functions with the \"real\" data from the dropout ensemble.\n",
    "- Now the weighted part: Because the area of each lat-lon square is not the same but in fact varies with cos(lat), we want to weigh each grid point proportional to its area. This is already implemented for the rmse and acc scores in `src/score.py`. Implement this for the three probabilistic scores and compare to the unweighted scores. They shouldn't be too different. Implementing this for the rank histogram might require some thinking. We can talk about this together."
   ]
  },
  {
   "cell_type": "markdown",
   "metadata": {},
   "source": [
    "ToDo:\n",
    "1. use command-line script to get prediction dataset\n",
    "2. shifting code to, working with full data on remote PC\n",
    "3. CRPS averaging. sanity checks.  re-writing rank histogram.\n",
    "4. creating function to compare different models on CRPS, Spread-skill, RankHistogram. should be simple.\n",
    "\n",
    "Questions:\n",
    "- i added mean, std data in data/WeatherBench/5.625deg/ directory. It's the one that you initially uploaded in test.zip for the starter exercise (12-probabilistic dropout). Is this for 1979-2014? And should we use the same for test data since it won't be much different?\n",
    "\n",
    "-I am having trouble running DataGenerator() function in PC. It complains of MemoryError, even if I turn on GPU. The kernel also gets interrupted and has to restart. Any idea what should be done?"
   ]
  },
  {
   "cell_type": "code",
   "execution_count": 1,
   "metadata": {},
   "outputs": [],
   "source": [
    "%load_ext autoreload\n",
    "%autoreload 2"
   ]
  },
  {
   "cell_type": "code",
   "execution_count": 192,
   "metadata": {},
   "outputs": [],
   "source": [
    "from src.utils import *\n",
    "from src.score import *\n",
    "from src.data_generator import *\n",
    "from src.networks import *\n",
    "import matplotlib.pyplot as plt"
   ]
  },
  {
   "cell_type": "code",
   "execution_count": 3,
   "metadata": {},
   "outputs": [
    {
     "data": {
      "text/plain": [
       "'1.14.0'"
      ]
     },
     "execution_count": 3,
     "metadata": {},
     "output_type": "execute_result"
    }
   ],
   "source": [
    "tf.__version__"
   ]
  },
  {
   "cell_type": "code",
   "execution_count": 4,
   "metadata": {},
   "outputs": [],
   "source": [
    "# You only need this if you are using a GPU\n",
    "#os.environ[\"CUDA_VISIBLE_DEVICES\"]=str(0)\n",
    "#limit_mem()"
   ]
  },
  {
   "cell_type": "code",
   "execution_count": 5,
   "metadata": {},
   "outputs": [],
   "source": [
    "datadir = '/Users/sagar/Library/Mobile\\ Documents/com~apple~CloudDocs/studies/WeatherBench/Testing_WeatherBench/5.625deg/'# Change this to where you downloaded the data"
   ]
  },
  {
   "cell_type": "code",
   "execution_count": 6,
   "metadata": {},
   "outputs": [
    {
     "name": "stdout",
     "output_type": "stream",
     "text": [
      "13-mean.nc                     \u001b[34mgeopotential\u001b[m\u001b[m\r\n",
      "13-resnet_bn_dr_0.1.h5         \u001b[34mtemperature\u001b[m\u001b[m\r\n",
      "13-resnet_bn_dr_0.1_weights.h5 \u001b[34mu_component_of_wind\u001b[m\u001b[m\r\n",
      "13-std.nc                      \u001b[34mv_component_of_wind\u001b[m\u001b[m\r\n",
      "\u001b[34mconstants\u001b[m\u001b[m\r\n"
     ]
    }
   ],
   "source": [
    "!ls $datadir"
   ]
  },
  {
   "cell_type": "code",
   "execution_count": 7,
   "metadata": {},
   "outputs": [],
   "source": [
    "exp_id = '13-resnet_bn_dr_0.1'\n",
    "var_dict = {'geopotential': ('z', [200, 500, 850]), 'temperature': ('t', [200, 500, 850]), \n",
    "            'u_component_of_wind': ('u', [200, 500, 850]), 'v_component_of_wind': ('v', [200, 500, 850]), \n",
    "            'constants': ['lsm','orography','lat2d']}  \n",
    "\n",
    "output_vars = ['z_500', 't_850']\n",
    "filters = [128, 128, 128, 128, 128, 128, 128, 128, 2]\n",
    "kernels = [7, 3, 3, 3, 3, 3, 3, 3, 3]\n",
    "lead_time = 72 #prediction of forecast is at 72 hours after input time.\n",
    "lr = 0.5e-4\n",
    "early_stopping_patience = 10\n",
    "reduce_lr_patience = 5\n",
    "data_subsample = 2\n",
    "norm_subsample = 30000\n",
    "bn_position = 'post'\n",
    "use_bias = 1\n",
    "dropout = 0.1  # This is the important one\n",
    "\n",
    "batch_size = 32\n",
    "nt_in = 1\n",
    "l2 = 0\n",
    "skip = True"
   ]
  },
  {
   "cell_type": "code",
   "execution_count": 8,
   "metadata": {},
   "outputs": [],
   "source": [
    "#ds = xr.merge([xr.open_mfdataset('../test/{var}/*.nc', combine='by_coords') for var in var_dict.keys()]) \n",
    "df1=xr.open_mfdataset('../5.625deg/geopotential/*.nc', combine='by_coords') \n",
    "df2=xr.open_mfdataset('../5.625deg/temperature/*.nc', combine='by_coords') \n",
    "df3=xr.open_mfdataset('../5.625deg/u_component_of_wind/*.nc', combine='by_coords') \n",
    "df4=xr.open_mfdataset('../5.625deg/v_component_of_wind/*.nc', combine='by_coords')  \n",
    "df5=xr.open_mfdataset('../5.625deg/constants/*.nc', combine='by_coords')  \n",
    "ds=xr.merge([df1,df2,df3,df4,df5])"
   ]
  },
  {
   "cell_type": "code",
   "execution_count": 9,
   "metadata": {},
   "outputs": [],
   "source": [
    "mean = xr.open_dataarray('../5.625deg/13-mean.nc') #for just our subsampled data. 15 levels ('the constants are at level=1)':z200,z500,z850,t200 and so on.\n",
    "std = xr.open_dataarray('../5.625deg/13-std.nc')"
   ]
  },
  {
   "cell_type": "code",
   "execution_count": 10,
   "metadata": {},
   "outputs": [
    {
     "name": "stdout",
     "output_type": "stream",
     "text": [
      "DG start 08:53:20.948147\n",
      "DG normalize 08:53:21.001660\n",
      "DG load 08:53:21.013926\n",
      "Loading data into RAM\n",
      "DG done 08:53:46.175021\n"
     ]
    }
   ],
   "source": [
    "dg_test = DataGenerator(\n",
    "    ds, var_dict, lead_time, batch_size=batch_size, mean=mean, std=std,\n",
    "    shuffle=False, output_vars=output_vars\n",
    ")"
   ]
  },
  {
   "cell_type": "code",
   "execution_count": 86,
   "metadata": {},
   "outputs": [
    {
     "data": {
      "text/plain": [
       "((32, 32, 64, 15), (32, 32, 64, 2))"
      ]
     },
     "execution_count": 86,
     "metadata": {},
     "output_type": "execute_result"
    }
   ],
   "source": [
    "# You can index into the data generator to obain a feature/target pair\n",
    "# [batch, x, y, channel]\n",
    "X,y=dg_test[0]\n",
    "X.shape, y.shape"
   ]
  },
  {
   "cell_type": "code",
   "execution_count": 11,
   "metadata": {},
   "outputs": [],
   "source": [
    "#ds"
   ]
  },
  {
   "cell_type": "code",
   "execution_count": 12,
   "metadata": {},
   "outputs": [],
   "source": [
    "#ToDo: #Get full data in X,Y instead of just 1 batch\n",
    "# for (X,y) in dg_test\n",
    "#      X,y=dg_test(i)\n",
    "#       append"
   ]
  },
  {
   "cell_type": "code",
   "execution_count": 87,
   "metadata": {},
   "outputs": [
    {
     "data": {
      "text/plain": [
       "<matplotlib.image.AxesImage at 0x1c45c1c630>"
      ]
     },
     "execution_count": 87,
     "metadata": {},
     "output_type": "execute_result"
    },
    {
     "data": {
      "image/png": "[encoded data removed]",
      "text/plain": [
       "<Figure size 576x288 with 1 Axes>"
      ]
     },
     "metadata": {
      "needs_background": "light"
     },
     "output_type": "display_data"
    }
   ],
   "source": [
    "plt.matshow(y[0, :, :, 1]) #y[...,0] is z500 and y[...,1] is t850. normalized. \n",
    "#y is the observation after lead_time (=72) hours from input X. The ground truth."
   ]
  },
  {
   "cell_type": "markdown",
   "metadata": {},
   "source": [
    "# Load the model\n",
    "Now let's load the pretrained model. Check the build resnet option ."
   ]
  },
  {
   "cell_type": "code",
   "execution_count": 88,
   "metadata": {},
   "outputs": [],
   "source": [
    "model = build_resnet(\n",
    "    filters, kernels, input_shape=(\n",
    "        len(dg_test.data.lat), len(dg_test.data.lon), len(dg_test.data.level) * nt_in),\n",
    "    bn_position=bn_position, use_bias=use_bias, l2=l2, skip=skip,\n",
    "    dropout=dropout)"
   ]
  },
  {
   "cell_type": "code",
   "execution_count": 89,
   "metadata": {},
   "outputs": [
    {
     "name": "stdout",
     "output_type": "stream",
     "text": [
      "Model: \"model_1\"\n",
      "__________________________________________________________________________________________________\n",
      "Layer (type)                    Output Shape         Param #     Connected to                     \n",
      "==================================================================================================\n",
      "input_2 (InputLayer)            [(None, 32, 64, 15)] 0                                            \n",
      "__________________________________________________________________________________________________\n",
      "periodic_conv2d_16 (PeriodicCon (None, 32, 64, 128)  94208       input_2[0][0]                    \n",
      "__________________________________________________________________________________________________\n",
      "activation_15 (Activation)      (None, 32, 64, 128)  0           periodic_conv2d_16[0][0]         \n",
      "__________________________________________________________________________________________________\n",
      "batch_normalization_15 (BatchNo (None, 32, 64, 128)  512         activation_15[0][0]              \n",
      "__________________________________________________________________________________________________\n",
      "dropout_15 (Dropout)            (None, 32, 64, 128)  0           batch_normalization_15[0][0]     \n",
      "__________________________________________________________________________________________________\n",
      "periodic_conv2d_17 (PeriodicCon (None, 32, 64, 128)  147584      dropout_15[0][0]                 \n",
      "__________________________________________________________________________________________________\n",
      "activation_16 (Activation)      (None, 32, 64, 128)  0           periodic_conv2d_17[0][0]         \n",
      "__________________________________________________________________________________________________\n",
      "batch_normalization_16 (BatchNo (None, 32, 64, 128)  512         activation_16[0][0]              \n",
      "__________________________________________________________________________________________________\n",
      "dropout_16 (Dropout)            (None, 32, 64, 128)  0           batch_normalization_16[0][0]     \n",
      "__________________________________________________________________________________________________\n",
      "periodic_conv2d_18 (PeriodicCon (None, 32, 64, 128)  147584      dropout_16[0][0]                 \n",
      "__________________________________________________________________________________________________\n",
      "activation_17 (Activation)      (None, 32, 64, 128)  0           periodic_conv2d_18[0][0]         \n",
      "__________________________________________________________________________________________________\n",
      "batch_normalization_17 (BatchNo (None, 32, 64, 128)  512         activation_17[0][0]              \n",
      "__________________________________________________________________________________________________\n",
      "dropout_17 (Dropout)            (None, 32, 64, 128)  0           batch_normalization_17[0][0]     \n",
      "__________________________________________________________________________________________________\n",
      "add_7 (Add)                     (None, 32, 64, 128)  0           dropout_15[0][0]                 \n",
      "                                                                 dropout_17[0][0]                 \n",
      "__________________________________________________________________________________________________\n",
      "periodic_conv2d_19 (PeriodicCon (None, 32, 64, 128)  147584      add_7[0][0]                      \n",
      "__________________________________________________________________________________________________\n",
      "activation_18 (Activation)      (None, 32, 64, 128)  0           periodic_conv2d_19[0][0]         \n",
      "__________________________________________________________________________________________________\n",
      "batch_normalization_18 (BatchNo (None, 32, 64, 128)  512         activation_18[0][0]              \n",
      "__________________________________________________________________________________________________\n",
      "dropout_18 (Dropout)            (None, 32, 64, 128)  0           batch_normalization_18[0][0]     \n",
      "__________________________________________________________________________________________________\n",
      "periodic_conv2d_20 (PeriodicCon (None, 32, 64, 128)  147584      dropout_18[0][0]                 \n",
      "__________________________________________________________________________________________________\n",
      "activation_19 (Activation)      (None, 32, 64, 128)  0           periodic_conv2d_20[0][0]         \n",
      "__________________________________________________________________________________________________\n",
      "batch_normalization_19 (BatchNo (None, 32, 64, 128)  512         activation_19[0][0]              \n",
      "__________________________________________________________________________________________________\n",
      "dropout_19 (Dropout)            (None, 32, 64, 128)  0           batch_normalization_19[0][0]     \n",
      "__________________________________________________________________________________________________\n",
      "add_8 (Add)                     (None, 32, 64, 128)  0           add_7[0][0]                      \n",
      "                                                                 dropout_19[0][0]                 \n",
      "__________________________________________________________________________________________________\n",
      "periodic_conv2d_21 (PeriodicCon (None, 32, 64, 128)  147584      add_8[0][0]                      \n",
      "__________________________________________________________________________________________________\n",
      "activation_20 (Activation)      (None, 32, 64, 128)  0           periodic_conv2d_21[0][0]         \n",
      "__________________________________________________________________________________________________\n",
      "batch_normalization_20 (BatchNo (None, 32, 64, 128)  512         activation_20[0][0]              \n",
      "__________________________________________________________________________________________________\n",
      "dropout_20 (Dropout)            (None, 32, 64, 128)  0           batch_normalization_20[0][0]     \n",
      "__________________________________________________________________________________________________\n",
      "periodic_conv2d_22 (PeriodicCon (None, 32, 64, 128)  147584      dropout_20[0][0]                 \n",
      "__________________________________________________________________________________________________\n",
      "activation_21 (Activation)      (None, 32, 64, 128)  0           periodic_conv2d_22[0][0]         \n",
      "__________________________________________________________________________________________________\n",
      "batch_normalization_21 (BatchNo (None, 32, 64, 128)  512         activation_21[0][0]              \n",
      "__________________________________________________________________________________________________\n",
      "dropout_21 (Dropout)            (None, 32, 64, 128)  0           batch_normalization_21[0][0]     \n",
      "__________________________________________________________________________________________________\n",
      "add_9 (Add)                     (None, 32, 64, 128)  0           add_8[0][0]                      \n",
      "                                                                 dropout_21[0][0]                 \n",
      "__________________________________________________________________________________________________\n",
      "periodic_conv2d_23 (PeriodicCon (None, 32, 64, 128)  147584      add_9[0][0]                      \n",
      "__________________________________________________________________________________________________\n",
      "activation_22 (Activation)      (None, 32, 64, 128)  0           periodic_conv2d_23[0][0]         \n",
      "__________________________________________________________________________________________________\n",
      "batch_normalization_22 (BatchNo (None, 32, 64, 128)  512         activation_22[0][0]              \n",
      "__________________________________________________________________________________________________\n",
      "dropout_22 (Dropout)            (None, 32, 64, 128)  0           batch_normalization_22[0][0]     \n",
      "__________________________________________________________________________________________________\n",
      "periodic_conv2d_24 (PeriodicCon (None, 32, 64, 128)  147584      dropout_22[0][0]                 \n",
      "__________________________________________________________________________________________________\n",
      "activation_23 (Activation)      (None, 32, 64, 128)  0           periodic_conv2d_24[0][0]         \n",
      "__________________________________________________________________________________________________\n",
      "batch_normalization_23 (BatchNo (None, 32, 64, 128)  512         activation_23[0][0]              \n",
      "__________________________________________________________________________________________________\n",
      "dropout_23 (Dropout)            (None, 32, 64, 128)  0           batch_normalization_23[0][0]     \n",
      "__________________________________________________________________________________________________\n",
      "add_10 (Add)                    (None, 32, 64, 128)  0           add_9[0][0]                      \n",
      "                                                                 dropout_23[0][0]                 \n",
      "__________________________________________________________________________________________________\n",
      "periodic_conv2d_25 (PeriodicCon (None, 32, 64, 128)  147584      add_10[0][0]                     \n",
      "__________________________________________________________________________________________________\n",
      "activation_24 (Activation)      (None, 32, 64, 128)  0           periodic_conv2d_25[0][0]         \n",
      "__________________________________________________________________________________________________\n",
      "batch_normalization_24 (BatchNo (None, 32, 64, 128)  512         activation_24[0][0]              \n",
      "__________________________________________________________________________________________________\n",
      "dropout_24 (Dropout)            (None, 32, 64, 128)  0           batch_normalization_24[0][0]     \n",
      "__________________________________________________________________________________________________\n",
      "periodic_conv2d_26 (PeriodicCon (None, 32, 64, 128)  147584      dropout_24[0][0]                 \n",
      "__________________________________________________________________________________________________\n",
      "activation_25 (Activation)      (None, 32, 64, 128)  0           periodic_conv2d_26[0][0]         \n",
      "__________________________________________________________________________________________________\n",
      "batch_normalization_25 (BatchNo (None, 32, 64, 128)  512         activation_25[0][0]              \n",
      "__________________________________________________________________________________________________\n",
      "dropout_25 (Dropout)            (None, 32, 64, 128)  0           batch_normalization_25[0][0]     \n",
      "__________________________________________________________________________________________________\n",
      "add_11 (Add)                    (None, 32, 64, 128)  0           add_10[0][0]                     \n",
      "                                                                 dropout_25[0][0]                 \n",
      "__________________________________________________________________________________________________\n",
      "periodic_conv2d_27 (PeriodicCon (None, 32, 64, 128)  147584      add_11[0][0]                     \n",
      "__________________________________________________________________________________________________\n",
      "activation_26 (Activation)      (None, 32, 64, 128)  0           periodic_conv2d_27[0][0]         \n",
      "__________________________________________________________________________________________________\n",
      "batch_normalization_26 (BatchNo (None, 32, 64, 128)  512         activation_26[0][0]              \n",
      "__________________________________________________________________________________________________\n",
      "dropout_26 (Dropout)            (None, 32, 64, 128)  0           batch_normalization_26[0][0]     \n",
      "__________________________________________________________________________________________________\n",
      "periodic_conv2d_28 (PeriodicCon (None, 32, 64, 128)  147584      dropout_26[0][0]                 \n",
      "__________________________________________________________________________________________________\n",
      "activation_27 (Activation)      (None, 32, 64, 128)  0           periodic_conv2d_28[0][0]         \n",
      "__________________________________________________________________________________________________\n",
      "batch_normalization_27 (BatchNo (None, 32, 64, 128)  512         activation_27[0][0]              \n",
      "__________________________________________________________________________________________________\n",
      "dropout_27 (Dropout)            (None, 32, 64, 128)  0           batch_normalization_27[0][0]     \n",
      "__________________________________________________________________________________________________\n",
      "add_12 (Add)                    (None, 32, 64, 128)  0           add_11[0][0]                     \n",
      "                                                                 dropout_27[0][0]                 \n",
      "__________________________________________________________________________________________________\n",
      "periodic_conv2d_29 (PeriodicCon (None, 32, 64, 128)  147584      add_12[0][0]                     \n",
      "__________________________________________________________________________________________________\n",
      "activation_28 (Activation)      (None, 32, 64, 128)  0           periodic_conv2d_29[0][0]         \n",
      "__________________________________________________________________________________________________\n",
      "batch_normalization_28 (BatchNo (None, 32, 64, 128)  512         activation_28[0][0]              \n",
      "__________________________________________________________________________________________________\n",
      "dropout_28 (Dropout)            (None, 32, 64, 128)  0           batch_normalization_28[0][0]     \n",
      "__________________________________________________________________________________________________\n",
      "periodic_conv2d_30 (PeriodicCon (None, 32, 64, 128)  147584      dropout_28[0][0]                 \n",
      "__________________________________________________________________________________________________\n",
      "activation_29 (Activation)      (None, 32, 64, 128)  0           periodic_conv2d_30[0][0]         \n",
      "__________________________________________________________________________________________________\n",
      "batch_normalization_29 (BatchNo (None, 32, 64, 128)  512         activation_29[0][0]              \n",
      "__________________________________________________________________________________________________\n",
      "dropout_29 (Dropout)            (None, 32, 64, 128)  0           batch_normalization_29[0][0]     \n",
      "__________________________________________________________________________________________________\n",
      "add_13 (Add)                    (None, 32, 64, 128)  0           add_12[0][0]                     \n",
      "                                                                 dropout_29[0][0]                 \n",
      "__________________________________________________________________________________________________\n",
      "periodic_conv2d_31 (PeriodicCon (None, 32, 64, 2)    2306        add_13[0][0]                     \n",
      "==================================================================================================\n",
      "Total params: 2,170,370\n",
      "Trainable params: 2,166,530\n",
      "Non-trainable params: 3,840\n",
      "__________________________________________________________________________________________________\n"
     ]
    }
   ],
   "source": [
    "model.compile('adam', 'mse')\n",
    "model.summary()"
   ]
  },
  {
   "cell_type": "code",
   "execution_count": 90,
   "metadata": {},
   "outputs": [],
   "source": [
    "model.load_weights('../5.625deg/13-resnet_bn_dr_0.1_weights.h5')"
   ]
  },
  {
   "cell_type": "markdown",
   "metadata": {},
   "source": [
    "## Create a deterministic prediction\n",
    "\n",
    "The model has been trained to create a deterministic prediction. For this dropout is turned off during test time. Let's create a prediction for the first sample. Thanks to Tensorflow 2 we can tread the model as a function just like in PyTorch."
   ]
  },
  {
   "cell_type": "code",
   "execution_count": 197,
   "metadata": {},
   "outputs": [],
   "source": [
    "#pred_deterministic = model(X[:1]).numpy().squeeze(); pred_deterministic.shape; #to add tf.enable_eager_execution() in src/networks.py line6. have to remove if you want to run ensemble prediction :(."
   ]
  },
  {
   "cell_type": "code",
   "execution_count": null,
   "metadata": {},
   "outputs": [],
   "source": [
    "# Look at the predictions\n",
    "# fig, (ax1, ax2) = plt.subplots(1, 2, figsize=(10, 5))\n",
    "# ax1.matshow(pred[..., 0]) #z500 normalized\n",
    "# ax2.matshow(pred[..., 1]) #t850 normalized"
   ]
  },
  {
   "cell_type": "markdown",
   "metadata": {},
   "source": [
    "# Create an ensemble using test-time dropout\n",
    "Now it's your turn. The pretrained model contains several dropout layers which are only active during training. Your job is to turn dropout on during inference as well. This should result in a model that creates a slightly different prediction every time. Hint: Google \"Keras test-time dropout\"."
   ]
  },
  {
   "cell_type": "code",
   "execution_count": 91,
   "metadata": {},
   "outputs": [],
   "source": [
    "##weirdly this function works when tf.enable_eager_execution() is disabled.\n",
    "#but 'pred' for single determinstic works when tf.enable_eager_execution() is enabled. \n",
    "#issue with tensorflow version. couldn't solve right now.\n",
    "\n",
    "#keras switches off test time dropout by default. we could either switch it on permanently.. by putting somewhere an argument training=true). this will put both training and testing to use dropout\n",
    "#but since we have a pre trained model, better just to activate dropout in testing rather than training again. beware: we also activate bacthnorm or any other that was inactive in test phase by default.\n",
    "#https://stackoverflow.com/questions/52756283/adding-dropout-to-testing-inference-phase\n",
    "from tensorflow.keras import backend as K\n",
    "func = K.function(model.inputs + [K.learning_phase()], model.outputs)"
   ]
  },
  {
   "cell_type": "code",
   "execution_count": 92,
   "metadata": {},
   "outputs": [
    {
     "name": "stdout",
     "output_type": "stream",
     "text": [
      "(32, 64, 2)\n"
     ]
    }
   ],
   "source": [
    "# to use dropout in testing phase, pass 1 to set the learning phase to training mode\n",
    "outputs = func([X[:1]] + [1.]) #for a single sample. #gives a new prediction each time.\n",
    "pred2 = np.asarray(outputs, dtype=np.float32).squeeze(); print(pred2.shape) #reshape\n",
    "#outputs"
   ]
  },
  {
   "cell_type": "code",
   "execution_count": 93,
   "metadata": {},
   "outputs": [
    {
     "data": {
      "text/plain": [
       "<matplotlib.image.AxesImage at 0x1c3b41f748>"
      ]
     },
     "execution_count": 93,
     "metadata": {},
     "output_type": "execute_result"
    },
    {
     "data": {
      "image/png": "[encoded data removed]",
      "text/plain": [
       "<Figure size 720x360 with 2 Axes>"
      ]
     },
     "metadata": {
      "needs_background": "light"
     },
     "output_type": "display_data"
    }
   ],
   "source": [
    "# Look at the predictions\n",
    "fig, (ax1, ax2) = plt.subplots(1, 2, figsize=(10, 5))\n",
    "ax1.matshow(pred2[..., 0]) #z500 normalized\n",
    "ax2.matshow(pred2[..., 1]) #t850 normalized"
   ]
  },
  {
   "cell_type": "markdown",
   "metadata": {},
   "source": [
    "# Creating Ensemble Forecasts"
   ]
  },
  {
   "cell_type": "code",
   "execution_count": 94,
   "metadata": {},
   "outputs": [],
   "source": [
    "number_of_forecasts=100\n",
    "time=10 ## keep it lower for testing code. takes time.\n",
    "#number of inputs. different input times each for which an ensemble of predictions is made. \n",
    "obs=y[:time,...] #ground truth\n",
    "pred_ensemble = np.array([np.asarray(func([X[:time]] + [1.]), dtype=np.float32).squeeze() for _ in range(number_of_forecasts)])"
   ]
  },
  {
   "cell_type": "code",
   "execution_count": 98,
   "metadata": {},
   "outputs": [
    {
     "name": "stdout",
     "output_type": "stream",
     "text": [
      "(100, 10, 32, 64, 2)\n",
      "(10, 32, 64, 2)\n"
     ]
    }
   ],
   "source": [
    "print(pred_ensemble.shape) #(forecast, time, lat, lon, variable)\n",
    "obs=y[:time,...] #ground truth\n",
    "print(obs.shape) "
   ]
  },
  {
   "cell_type": "code",
   "execution_count": 100,
   "metadata": {},
   "outputs": [],
   "source": [
    "pred_ensemble_reserve=pred_ensemble #just for testing code.\n",
    "obs_reserve=obs"
   ]
  },
  {
   "cell_type": "code",
   "execution_count": 101,
   "metadata": {},
   "outputs": [],
   "source": [
    "#ToDo: If we unnormalize now, as numpy arrays, then it works fine. \n",
    "#If we unnormalize after turning them into xarrays, there is a problem, \n",
    "#since ds_test.mean and ds_test.std dont have proper names for z500, t850? Will solve.\n",
    "pred_ensemble=(pred_ensemble * dg_test.std.isel(level=dg_test.output_idxs).values +\n",
    "         dg_test.mean.isel(level=dg_test.output_idxs).values)\n",
    "obs=(obs * dg_test.std.isel(level=dg_test.output_idxs).values +\n",
    "         dg_test.mean.isel(level=dg_test.output_idxs).values)"
   ]
  },
  {
   "cell_type": "code",
   "execution_count": null,
   "metadata": {},
   "outputs": [],
   "source": []
  },
  {
   "cell_type": "code",
   "execution_count": null,
   "metadata": {},
   "outputs": [],
   "source": []
  },
  {
   "cell_type": "code",
   "execution_count": 102,
   "metadata": {},
   "outputs": [],
   "source": [
    "#convert to xarray dataset\n",
    "preds = xr.Dataset({\n",
    "    'z500': xr.DataArray(pred_ensemble[...,0],\n",
    "        dims=['forecast_number', 'time','lat', 'lon'],\n",
    "        coords={'forecast_number': np.arange(number_of_forecasts),'time': np.arange(time), 'lat': dg_test.data.lat, 'lon': dg_test.data.lon,},)\n",
    "    ,\n",
    "    't850': xr.DataArray(pred_ensemble[...,1],\n",
    "        dims=['forecast_number', 'time','lat', 'lon'],\n",
    "        coords={'forecast_number': np.arange(number_of_forecasts),'time': np.arange(time), 'lat': dg_test.data.lat, 'lon': dg_test.data.lon,},)\n",
    "})\n",
    "\n",
    "observation= xr.Dataset({\n",
    "    'z500': xr.DataArray(obs[...,0],\n",
    "                         dims=['time','lat','lon'],\n",
    "                         coords={'time':np.arange(time),'lat':dg_test.data.lat,'lon':dg_test.data.lon},)\n",
    "    ,\n",
    "    't850': xr.DataArray(obs[...,1],dims=['time','lat','lon'],coords={'time':np.arange(time),'lat':dg_test.data.lat,'lon':dg_test.data.lon},)          \n",
    "})"
   ]
  },
  {
   "cell_type": "code",
   "execution_count": 103,
   "metadata": {},
   "outputs": [
    {
     "data": {
      "text/html": [
       "<pre>&lt;xarray.Dataset&gt;\n",
       "Dimensions:          (forecast_number: 100, lat: 32, lon: 64, time: 10)\n",
       "Coordinates:\n",
       "  * forecast_number  (forecast_number) int64 0 1 2 3 4 5 6 ... 94 95 96 97 98 99\n",
       "  * time             (time) int64 0 1 2 3 4 5 6 7 8 9\n",
       "  * lat              (lat) float64 -87.19 -81.56 -75.94 ... 75.94 81.56 87.19\n",
       "  * lon              (lon) float64 0.0 5.625 11.25 16.88 ... 343.1 348.8 354.4\n",
       "Data variables:\n",
       "    z500             (forecast_number, time, lat, lon) float64 5.044e+04 ... 4.858e+04\n",
       "    t850             (forecast_number, time, lat, lon) float64 255.1 ... 247.4</pre>"
      ],
      "text/plain": [
       "<xarray.Dataset>\n",
       "Dimensions:          (forecast_number: 100, lat: 32, lon: 64, time: 10)\n",
       "Coordinates:\n",
       "  * forecast_number  (forecast_number) int64 0 1 2 3 4 5 6 ... 94 95 96 97 98 99\n",
       "  * time             (time) int64 0 1 2 3 4 5 6 7 8 9\n",
       "  * lat              (lat) float64 -87.19 -81.56 -75.94 ... 75.94 81.56 87.19\n",
       "  * lon              (lon) float64 0.0 5.625 11.25 16.88 ... 343.1 348.8 354.4\n",
       "Data variables:\n",
       "    z500             (forecast_number, time, lat, lon) float64 5.044e+04 ... 4.858e+04\n",
       "    t850             (forecast_number, time, lat, lon) float64 255.1 ... 247.4"
      ]
     },
     "execution_count": 103,
     "metadata": {},
     "output_type": "execute_result"
    }
   ],
   "source": [
    "preds"
   ]
  },
  {
   "cell_type": "code",
   "execution_count": 104,
   "metadata": {},
   "outputs": [
    {
     "data": {
      "text/html": [
       "<pre>&lt;xarray.Dataset&gt;\n",
       "Dimensions:  (lat: 32, lon: 64, time: 10)\n",
       "Coordinates:\n",
       "  * time     (time) int64 0 1 2 3 4 5 6 7 8 9\n",
       "  * lat      (lat) float64 -87.19 -81.56 -75.94 -70.31 ... 75.94 81.56 87.19\n",
       "  * lon      (lon) float64 0.0 5.625 11.25 16.88 ... 337.5 343.1 348.8 354.4\n",
       "Data variables:\n",
       "    z500     (time, lat, lon) float64 5.014e+04 5.021e+04 ... 4.967e+04\n",
       "    t850     (time, lat, lon) float64 260.0 260.1 260.2 ... 249.1 249.4 249.7</pre>"
      ],
      "text/plain": [
       "<xarray.Dataset>\n",
       "Dimensions:  (lat: 32, lon: 64, time: 10)\n",
       "Coordinates:\n",
       "  * time     (time) int64 0 1 2 3 4 5 6 7 8 9\n",
       "  * lat      (lat) float64 -87.19 -81.56 -75.94 -70.31 ... 75.94 81.56 87.19\n",
       "  * lon      (lon) float64 0.0 5.625 11.25 16.88 ... 337.5 343.1 348.8 354.4\n",
       "Data variables:\n",
       "    z500     (time, lat, lon) float64 5.014e+04 5.021e+04 ... 4.967e+04\n",
       "    t850     (time, lat, lon) float64 260.0 260.1 260.2 ... 249.1 249.4 249.7"
      ]
     },
     "execution_count": 104,
     "metadata": {},
     "output_type": "execute_result"
    }
   ],
   "source": [
    "observation"
   ]
  },
  {
   "cell_type": "markdown",
   "metadata": {},
   "source": [
    "# Evaluation methods: Spread-skill, CRPS, Rank histogram\n",
    "check src/score.py."
   ]
  },
  {
   "cell_type": "code",
   "execution_count": null,
   "metadata": {},
   "outputs": [],
   "source": []
  },
  {
   "cell_type": "code",
   "execution_count": null,
   "metadata": {},
   "outputs": [],
   "source": []
  },
  {
   "cell_type": "code",
   "execution_count": null,
   "metadata": {},
   "outputs": [],
   "source": []
  },
  {
   "cell_type": "code",
   "execution_count": 105,
   "metadata": {},
   "outputs": [
    {
     "name": "stdout",
     "output_type": "stream",
     "text": [
      "<xarray.Dataset>\n",
      "Dimensions:           ()\n",
      "Data variables:\n",
      "    z500_mean_spread  float64 154.9\n",
      "    t850_mean_spread  float64 0.7057\n",
      "<xarray.Dataset>\n",
      "Dimensions:    ()\n",
      "Data variables:\n",
      "    z500_rmse  float64 427.1\n",
      "    t850_rmse  float64 2.24\n",
      "<xarray.DataArray ()>\n",
      "array(0.362758)\n",
      "<xarray.DataArray ()>\n",
      "array(0.31501173)\n"
     ]
    }
   ],
   "source": [
    "#Method 1: Evaluating Spread-Skill Ratio (Based on Paper by scher and Messori 2020: Ensemble NN forecasts with SVD)\n",
    "mean_spread=compute_weighted_meanspread(preds); print(mean_spread)\n",
    "\n",
    "ensemblemean=preds.mean('forecast_number')\n",
    "mean_rmse=compute_weighted_rmse(observation,ensemblemean); print(mean_rmse)\n",
    "\n",
    "#spread_skill_ratio=mean_spread/mean_rmse; print(spread_skill_ratio)\n",
    "spread_skill_ratio_z500=mean_spread.z500_mean_spread/mean_rmse.z500_rmse\n",
    "spread_skill_ratio_t850=mean_spread.t850_mean_spread/mean_rmse.t850_rmse\n",
    "print(spread_skill_ratio_z500)\n",
    "print(spread_skill_ratio_t850) \n",
    "#CouldDo: make a single Dataset by keeping same name as z500, t850\n",
    "#So spread is low compared to RMSE. That means a (over?)confident prediction"
   ]
  },
  {
   "cell_type": "code",
   "execution_count": null,
   "metadata": {},
   "outputs": [],
   "source": []
  },
  {
   "cell_type": "code",
   "execution_count": null,
   "metadata": {},
   "outputs": [],
   "source": []
  },
  {
   "cell_type": "code",
   "execution_count": 174,
   "metadata": {},
   "outputs": [
    {
     "ename": "TypeError",
     "evalue": "'Dataset' object is not callable",
     "output_type": "error",
     "traceback": [
      "\u001b[0;31m---------------------------------------------------------------------------\u001b[0m",
      "\u001b[0;31mTypeError\u001b[0m                                 Traceback (most recent call last)",
      "\u001b[0;32m<ipython-input-174-0a60d6919c16>\u001b[0m in \u001b[0;36m<module>\u001b[0;34m\u001b[0m\n\u001b[1;32m      1\u001b[0m \u001b[0;31m#Method 2: Continuous Ranked Probablity Score (properscoring package)\u001b[0m\u001b[0;34m\u001b[0m\u001b[0;34m\u001b[0m\u001b[0;34m\u001b[0m\u001b[0m\n\u001b[0;32m----> 2\u001b[0;31m \u001b[0mcrps_score\u001b[0m\u001b[0;34m=\u001b[0m\u001b[0mcrps_score\u001b[0m\u001b[0;34m(\u001b[0m\u001b[0mobservation\u001b[0m\u001b[0;34m,\u001b[0m \u001b[0mpreds\u001b[0m\u001b[0;34m,\u001b[0m\u001b[0;36m1\u001b[0m\u001b[0;34m)\u001b[0m\u001b[0;34m;\u001b[0m \u001b[0mprint\u001b[0m\u001b[0;34m(\u001b[0m\u001b[0mcrps_score\u001b[0m\u001b[0;34m)\u001b[0m\u001b[0;34m\u001b[0m\u001b[0;34m\u001b[0m\u001b[0m\n\u001b[0m\u001b[1;32m      3\u001b[0m \u001b[0;31m#ToDo: solve this error. if i re-run cell block 2 (from src.score import *), then it runs fine. See next cell block. possibly becasue  change datatype by calling to_array() function)\u001b[0m\u001b[0;34m\u001b[0m\u001b[0;34m\u001b[0m\u001b[0;34m\u001b[0m\u001b[0m\n",
      "\u001b[0;31mTypeError\u001b[0m: 'Dataset' object is not callable"
     ]
    }
   ],
   "source": [
    "#Method 2: Continuous Ranked Probablity Score (properscoring package)\n",
    "crps_score=crps_score(observation, preds,1); print(crps_score)\n",
    "#ToDo: solve this error. if i re-run cell block 2 (from src.score import *), then it runs fine. See next cell block. possibly becasue  change datatype by calling to_array() function)"
   ]
  },
  {
   "cell_type": "code",
   "execution_count": 173,
   "metadata": {},
   "outputs": [
    {
     "name": "stdout",
     "output_type": "stream",
     "text": [
      "<xarray.Dataset>\n",
      "Dimensions:  ()\n",
      "Data variables:\n",
      "    z500     float64 222.3\n",
      "    t850     float64 1.34\n"
     ]
    }
   ],
   "source": [
    "#Method 2: Continuous Ranked Probablity Score\n",
    "crps_score=crps_score(observation, preds,1); print(crps_score)"
   ]
  },
  {
   "cell_type": "code",
   "execution_count": 182,
   "metadata": {},
   "outputs": [
    {
     "name": "stdout",
     "output_type": "stream",
     "text": [
      "<xarray.Dataset>\n",
      "Dimensions:          ()\n",
      "Coordinates:\n",
      "    forecast_number  int64 0\n",
      "Data variables:\n",
      "    z500_mae         float64 294.7\n",
      "    t850_mae         float64 1.69\n",
      "<xarray.Dataset>\n",
      "Dimensions:  ()\n",
      "Data variables:\n",
      "    z500     float64 294.7\n",
      "    t850     float64 1.69\n"
     ]
    }
   ],
   "source": [
    "#sanity check. MAE=crps for 1 ensemble member\n",
    "obs_single=observation\n",
    "pred_single=preds.isel(forecast_number=0)\n",
    "\n",
    "#mean absolute error\n",
    "mae=compute_weighted_mae(obs_single,pred_single); print(mae)\n",
    "#crps for single\n",
    "crps_score_single=crps_score(obs_single,pred_single,1); print(crps_score_single)"
   ]
  },
  {
   "cell_type": "code",
   "execution_count": null,
   "metadata": {},
   "outputs": [],
   "source": []
  },
  {
   "cell_type": "code",
   "execution_count": 188,
   "metadata": {},
   "outputs": [
    {
     "data": {
      "image/png": "[encoded data removed]",
      "text/plain": [
       "<Figure size 432x288 with 1 Axes>"
      ]
     },
     "metadata": {
      "needs_background": "light"
     },
     "output_type": "display_data"
    }
   ],
   "source": [
    "#Method 3: Rank Histogram\n",
    "# !pip install rank-histogram\n",
    "# does prediction need to be a sorted array? How does that work for a data that has lat,lon?\n",
    "# R code: https://rdrr.io/cran/SpecsVerification/src/R/Rankhist.R\n",
    "from ranky import rankz\n",
    "\n",
    "obs = np.asarray(observation.to_array(), dtype=np.float32).squeeze();\n",
    "obs_z500=obs[0,...].squeeze()\n",
    "obs_t850=obs[1,...].squeeze()\n",
    "\n",
    "pred=np.asarray(preds.to_array(), dtype=np.float32).squeeze();\n",
    "pred_z500=pred[0,...].squeeze() \n",
    "pred_t850=pred[1,...].squeeze() \n",
    "\n",
    "mask=np.ones(obs_z500.shape) #useless\n",
    "# feed into rankz function\n",
    "result = rankz(obs_z500, pred_z500, mask)\n",
    "# plot histogram\n",
    "plt.bar(range(1,pred_z500.shape[0]+2), result[0])\n",
    "# view histogram\n",
    "plt.show() ##overconfident (underdispersive)"
   ]
  },
  {
   "cell_type": "code",
   "execution_count": 189,
   "metadata": {},
   "outputs": [
    {
     "data": {
      "image/png": "[encoded data removed]",
      "text/plain": [
       "<Figure size 432x288 with 1 Axes>"
      ]
     },
     "metadata": {
      "needs_background": "light"
     },
     "output_type": "display_data"
    }
   ],
   "source": [
    "result = rankz(obs_t850, pred_t850, mask)\n",
    "plt.bar(range(1,pred_t850.shape[0]+2), result[0])\n",
    "plt.show()"
   ]
  },
  {
   "cell_type": "code",
   "execution_count": null,
   "metadata": {},
   "outputs": [],
   "source": [
    "print(obs_t850.shape)"
   ]
  },
  {
   "cell_type": "code",
   "execution_count": 185,
   "metadata": {
    "scrolled": true
   },
   "outputs": [
    {
     "data": {
      "image/png": "[encoded data removed]",
      "text/plain": [
       "<Figure size 432x288 with 1 Axes>"
      ]
     },
     "metadata": {
      "needs_background": "light"
     },
     "output_type": "display_data"
    }
   ],
   "source": [
    "#sanity check: for a random sample\n",
    "obs = np.random.randn(10, 40, 40)\n",
    "ensemble = np.random.randn(20, 10, 40, 40)\n",
    "mask = np.random.randint(0, 2, (10, 40, 40)) #masked where 0/false.\n",
    "# feed into rankz function\n",
    "result = rankz(obs, ensemble, mask)\n",
    "# plot histogram\n",
    "plt.bar(range(1,ensemble.shape[0]+2), result[0])\n",
    "# view histogram\n",
    "plt.show()"
   ]
  },
  {
   "cell_type": "code",
   "execution_count": 190,
   "metadata": {},
   "outputs": [
    {
     "name": "stdout",
     "output_type": "stream",
     "text": [
      "(10, 3)\n",
      "(100, 10, 3)\n",
      "(10, 3)\n"
     ]
    },
    {
     "data": {
      "image/png": "[encoded data removed]",
      "text/plain": [
       "<Figure size 432x288 with 1 Axes>"
      ]
     },
     "metadata": {
      "needs_background": "light"
     },
     "output_type": "display_data"
    }
   ],
   "source": [
    "#testing for only few points. useless.\n",
    "obs_small=obs_z500[:,15:18,0].squeeze()\n",
    "pred_small=pred_z500[:,:,15:18,0]\n",
    "mask=np.ones(obs_small.shape).squeeze()\n",
    "print(obs_small.shape)\n",
    "print(pred_small.shape)\n",
    "print(mask.shape)\n",
    "\n",
    "result = rankz(obs_small, pred_small, mask)\n",
    "plt.bar(range(1,pred_small.shape[0]+2), result[0])\n",
    "plt.show() #"
   ]
  },
  {
   "cell_type": "code",
   "execution_count": 191,
   "metadata": {},
   "outputs": [
    {
     "name": "stdout",
     "output_type": "stream",
     "text": [
      "(10, 32, 64)\n",
      "(10, 10, 32, 64)\n",
      "(10, 32, 64)\n"
     ]
    },
    {
     "data": {
      "image/png": "[encoded data removed]",
      "text/plain": [
       "<Figure size 432x288 with 1 Axes>"
      ]
     },
     "metadata": {
      "needs_background": "light"
     },
     "output_type": "display_data"
    }
   ],
   "source": [
    "#testing for smaller number of bins (i.e. forecasts)\n",
    "obs_small=obs_z500[:,:,:].squeeze()\n",
    "pred_small=pred_z500[0:10,:,:,:]\n",
    "mask=np.ones(obs_small.shape).squeeze()\n",
    "print(obs_small.shape)\n",
    "print(pred_small.shape)\n",
    "print(mask.shape)\n",
    "\n",
    "result = rankz(obs_small, pred_small, mask)\n",
    "plt.bar(range(1,pred_small.shape[0]+2), result[0])\n",
    "plt.show() #overconfident (underdispersive)"
   ]
  },
  {
   "cell_type": "code",
   "execution_count": 38,
   "metadata": {},
   "outputs": [],
   "source": []
  },
  {
   "cell_type": "code",
   "execution_count": null,
   "metadata": {},
   "outputs": [],
   "source": []
  },
  {
   "cell_type": "code",
   "execution_count": null,
   "metadata": {},
   "outputs": [],
   "source": []
  },
  {
   "cell_type": "code",
   "execution_count": null,
   "metadata": {},
   "outputs": [],
   "source": []
  },
  {
   "cell_type": "code",
   "execution_count": 50,
   "metadata": {},
   "outputs": [],
   "source": []
  },
  {
   "cell_type": "code",
   "execution_count": null,
   "metadata": {},
   "outputs": [],
   "source": []
  },
  {
   "cell_type": "code",
   "execution_count": null,
   "metadata": {},
   "outputs": [],
   "source": []
  },
  {
   "cell_type": "code",
   "execution_count": null,
   "metadata": {},
   "outputs": [],
   "source": []
  }
 ],
 "metadata": {
  "kernelspec": {
   "display_name": "Python 3",
   "language": "python",
   "name": "python3"
  },
  "language_info": {
   "codemirror_mode": {
    "name": "ipython",
    "version": 3
   },
   "file_extension": ".py",
   "mimetype": "text/x-python",
   "name": "python",
   "nbconvert_exporter": "python",
   "pygments_lexer": "ipython3",
   "version": "3.7.3"
  }
 },
 "nbformat": 4,
 "nbformat_minor": 4
}
