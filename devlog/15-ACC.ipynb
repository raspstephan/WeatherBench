{
 "cells": [
  {
   "cell_type": "code",
   "execution_count": 4,
   "metadata": {},
   "outputs": [],
   "source": [
    "import numpy as np\n",
    "import xarray as xr\n",
    "from src.score import *"
   ]
  },
  {
   "cell_type": "code",
   "execution_count": 2,
   "metadata": {},
   "outputs": [],
   "source": [
    "datadir = '/data/stephan/WeatherBench/5.625deg/'"
   ]
  },
  {
   "cell_type": "code",
   "execution_count": 18,
   "metadata": {},
   "outputs": [],
   "source": [
    "z500_valid = load_test_data(f'{datadir}geopotential_500', 'z').load()\n",
    "t850_valid = load_test_data(f'{datadir}temperature_850', 't').load()"
   ]
  },
  {
   "cell_type": "code",
   "execution_count": 16,
   "metadata": {},
   "outputs": [],
   "source": [
    "preds = xr.open_dataset(\n",
    "    '/home/rasp/data/myWeatherBench/predictions/45-resnet_deeper2_no_ss.nc'\n",
    ").load()"
   ]
  },
  {
   "cell_type": "code",
   "execution_count": 8,
   "metadata": {},
   "outputs": [
    {
     "data": {
      "text/html": [
       "<pre>&lt;xarray.DataArray &#x27;z_rmse&#x27; ()&gt;\n",
       "array(348.37885482)\n",
       "Coordinates:\n",
       "    level    int32 500</pre>"
      ],
      "text/plain": [
       "<xarray.DataArray 'z_rmse' ()>\n",
       "array(348.37885482)\n",
       "Coordinates:\n",
       "    level    int32 500"
      ]
     },
     "execution_count": 8,
     "metadata": {},
     "output_type": "execute_result"
    }
   ],
   "source": [
    "compute_weighted_rmse(preds.z, z500_valid).load()"
   ]
  },
  {
   "cell_type": "code",
   "execution_count": 92,
   "metadata": {},
   "outputs": [],
   "source": [
    "def compute_weighted_acc(da_fc, da_true):\n",
    "    clim = da_true.mean('time')\n",
    "    t = np.intersect1d(da_fc.time, da_true.time)\n",
    "    fa = da_fc.sel(time=t) - clim\n",
    "    a = da_true.sel(time=t) - clim\n",
    "    \n",
    "    weights_lat = np.cos(np.deg2rad(da_fc.lat))\n",
    "    weights_lat /= weights_lat.mean()\n",
    "    w = weights_lat\n",
    "    \n",
    "    fa_prime = fa - fa.mean()\n",
    "    a_prime = a - a.mean()\n",
    "    \n",
    "    acc = (\n",
    "        np.sum(w * fa_prime * a_prime) /\n",
    "        np.sqrt(\n",
    "            np.sum(w * fa_prime**2) * np.sum(w * a_prime**2)\n",
    "        )\n",
    "    )\n",
    "    return acc"
   ]
  },
  {
   "cell_type": "code",
   "execution_count": 95,
   "metadata": {},
   "outputs": [
    {
     "data": {
      "text/html": [
       "<pre>&lt;xarray.DataArray ()&gt;\n",
       "array(0.94556074)\n",
       "Coordinates:\n",
       "    level    int32 500</pre>"
      ],
      "text/plain": [
       "<xarray.DataArray ()>\n",
       "array(0.94556074)\n",
       "Coordinates:\n",
       "    level    int32 500"
      ]
     },
     "execution_count": 95,
     "metadata": {},
     "output_type": "execute_result"
    }
   ],
   "source": [
    "compute_weighted_acc(preds.z, z500_valid)"
   ]
  },
  {
   "cell_type": "code",
   "execution_count": 96,
   "metadata": {},
   "outputs": [
    {
     "data": {
      "text/html": [
       "<pre>&lt;xarray.DataArray ()&gt;\n",
       "array(0.93661655)\n",
       "Coordinates:\n",
       "    level    int32 850</pre>"
      ],
      "text/plain": [
       "<xarray.DataArray ()>\n",
       "array(0.93661655)\n",
       "Coordinates:\n",
       "    level    int32 850"
      ]
     },
     "execution_count": 96,
     "metadata": {},
     "output_type": "execute_result"
    }
   ],
   "source": [
    "compute_weighted_acc(preds.t, t850_valid)"
   ]
  },
  {
   "cell_type": "code",
   "execution_count": null,
   "metadata": {},
   "outputs": [],
   "source": []
  }
 ],
 "metadata": {
  "kernelspec": {
   "display_name": "Python 3",
   "language": "python",
   "name": "python3"
  },
  "language_info": {
   "codemirror_mode": {
    "name": "ipython",
    "version": 3
   },
   "file_extension": ".py",
   "mimetype": "text/x-python",
   "name": "python",
   "nbconvert_exporter": "python",
   "pygments_lexer": "ipython3",
   "version": "3.7.4"
  }
 },
 "nbformat": 4,
 "nbformat_minor": 4
}
