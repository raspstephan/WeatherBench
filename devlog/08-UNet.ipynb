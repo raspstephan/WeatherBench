{
 "cells": [
  {
   "cell_type": "markdown",
   "metadata": {
    "Collapsed": "false"
   },
   "source": [
    "# Let's finally do this. UNet implementation."
   ]
  },
  {
   "cell_type": "code",
   "execution_count": 1,
   "metadata": {
    "Collapsed": "false"
   },
   "outputs": [],
   "source": [
    "%load_ext autoreload\n",
    "%autoreload 2"
   ]
  },
  {
   "cell_type": "code",
   "execution_count": 2,
   "metadata": {
    "Collapsed": "false"
   },
   "outputs": [],
   "source": [
    "from src.utils import *\n",
    "from src.score import *\n",
    "from src.data_generator import *\n",
    "from src.networks import *\n",
    "import matplotlib.pyplot as plt"
   ]
  },
  {
   "cell_type": "code",
   "execution_count": 3,
   "metadata": {
    "Collapsed": "false"
   },
   "outputs": [],
   "source": [
    "os.environ[\"CUDA_VISIBLE_DEVICES\"]=str(0)\n",
    "limit_mem()"
   ]
  },
  {
   "cell_type": "code",
   "execution_count": 4,
   "metadata": {
    "Collapsed": "false"
   },
   "outputs": [],
   "source": [
    "datadir = '/data/stephan/WeatherBench/5.625deg/'"
   ]
  },
  {
   "cell_type": "code",
   "execution_count": 5,
   "metadata": {
    "Collapsed": "false"
   },
   "outputs": [],
   "source": [
    "var_dict = {\n",
    "    'geopotential': ('z', [500]),\n",
    "    'temperature': ('t', [850]),\n",
    "    'constants': ['lat2d', 'orography', 'lsm']\n",
    "}"
   ]
  },
  {
   "cell_type": "code",
   "execution_count": 6,
   "metadata": {
    "Collapsed": "false"
   },
   "outputs": [],
   "source": [
    "output_vars = ['z_500', 't_850']"
   ]
  },
  {
   "cell_type": "code",
   "execution_count": 7,
   "metadata": {
    "Collapsed": "false"
   },
   "outputs": [],
   "source": [
    "ds = xr.merge([xr.open_mfdataset(f'{datadir}/{var}/*.nc', combine='by_coords') for var in var_dict.keys()])"
   ]
  },
  {
   "cell_type": "code",
   "execution_count": 8,
   "metadata": {
    "Collapsed": "false"
   },
   "outputs": [],
   "source": [
    "ds_train = ds.sel(time=slice('2000', '2015'))\n",
    "ds_valid = ds.sel(time=slice('2016', '2016'))\n",
    "ds_test = ds.sel(time=slice('2017', '2018'))"
   ]
  },
  {
   "cell_type": "code",
   "execution_count": 9,
   "metadata": {
    "Collapsed": "false"
   },
   "outputs": [],
   "source": [
    "lead_time=72\n",
    "filters = [128, 128, 128, 128, 128, 128, 2]\n",
    "kernels = [5, 5, 5, 5, 5, 5, 5]\n",
    "norm_subsample = 60000\n",
    "data_subsample = 1\n",
    "lr = 0.5e-4\n",
    "batch_size = 64"
   ]
  },
  {
   "cell_type": "code",
   "execution_count": 10,
   "metadata": {
    "Collapsed": "false"
   },
   "outputs": [
    {
     "name": "stdout",
     "output_type": "stream",
     "text": [
      "DG start 10:31:14.998717\n",
      "DG normalize 10:31:15.020385\n",
      "DG load 10:31:22.039292\n",
      "Loading data into RAM\n",
      "DG done 10:32:40.806944\n",
      "DG start 10:32:40.808575\n",
      "DG normalize 10:32:40.832948\n",
      "DG load 10:32:40.848097\n",
      "Loading data into RAM\n",
      "DG done 10:32:42.489153\n",
      "DG start 10:32:42.489532\n",
      "DG normalize 10:32:42.510461\n",
      "DG load 10:32:42.524930\n",
      "Loading data into RAM\n",
      "DG done 10:32:45.640796\n"
     ]
    }
   ],
   "source": [
    "dg_train = DataGenerator(\n",
    "    ds_train, var_dict, lead_time, batch_size=batch_size, output_vars=output_vars,\n",
    "    data_subsample=data_subsample, norm_subsample=norm_subsample\n",
    ")\n",
    "dg_valid = DataGenerator(\n",
    "    ds_valid, var_dict, lead_time, batch_size=batch_size, mean=dg_train.mean, std=dg_train.std,\n",
    "    shuffle=False, output_vars=output_vars\n",
    ")\n",
    "dg_test =  DataGenerator(\n",
    "    ds_test, var_dict, lead_time, batch_size=batch_size, mean=dg_train.mean, std=dg_train.std,\n",
    "    shuffle=False, output_vars=output_vars\n",
    ")"
   ]
  },
  {
   "cell_type": "markdown",
   "metadata": {},
   "source": [
    "## First attempt"
   ]
  },
  {
   "cell_type": "code",
   "execution_count": 11,
   "metadata": {
    "Collapsed": "false"
   },
   "outputs": [],
   "source": [
    "def build_unet(input_shape, n_layers, filters_start, channels_out, kernel=3, u_skip=True, \n",
    "               res_skip=True, l2=0, bn_position=None, dropout=0):\n",
    "    \"https://github.com/Nishanksingla/UNet-with-ResBlock/blob/master/resnet34_unet_model.py\"\n",
    "    x = input = Input(shape=input_shape)\n",
    "    filters = filters_start\n",
    "    \n",
    "    # Down\n",
    "    down_layers = []\n",
    "    for i in range(n_layers):\n",
    "        # Resblock\n",
    "        x_res = PeriodicConv2D(\n",
    "            filters, 1, conv_kwargs={\n",
    "                'use_bias': False, 'kernel_regularizer': regularizers.l2(l2)})(x)\n",
    "        x = convblock(x, filters, kernel, bn_position=bn_position, l2=l2, dropout=dropout)\n",
    "        x = convblock(x, filters, kernel, bn_position=bn_position, l2=l2, activation='linear', \n",
    "                      dropout=dropout)\n",
    "        if res_skip: x = Add()([x, x_res])\n",
    "        x = ReLU()(x)\n",
    "        if not i == n_layers-1: \n",
    "            down_layers.append(x)\n",
    "            # Downsampling\n",
    "            x = MaxPooling2D()(x)\n",
    "            filters *= 2\n",
    "\n",
    "    # Up\n",
    "    for dl in reversed(down_layers):\n",
    "        filters //= 2\n",
    "        # Upsample\n",
    "        x = UpSampling2D()(x)\n",
    "        x = PeriodicConv2D(filters, 3, conv_kwargs={'kernel_regularizer': regularizers.l2(l2)})(x)\n",
    "        x = ReLU()(x)\n",
    "        \n",
    "        # Concatenate\n",
    "        if u_skip:\n",
    "            x = Concatenate()([x, dl])\n",
    "        \n",
    "        # Resblock\n",
    "        x_res = PeriodicConv2D(filters, 1, conv_kwargs={'use_bias': False})(x)\n",
    "        x = convblock(x, filters, kernel, bn_position=bn_position, l2=l2, dropout=dropout)\n",
    "        x = convblock(x, filters, kernel, bn_position=bn_position, l2=l2, activation='linear', \n",
    "                      dropout=dropout)\n",
    "        if res_skip: x = Add()([x, x_res])\n",
    "        x = ReLU()(x)\n",
    "    \n",
    "    x = PeriodicConv2D(channels_out, 1, conv_kwargs={'kernel_regularizer': regularizers.l2(l2)})(x)\n",
    "    return keras.models.Model(input, x)"
   ]
  },
  {
   "cell_type": "code",
   "execution_count": 12,
   "metadata": {
    "Collapsed": "false"
   },
   "outputs": [
    {
     "data": {
      "text/plain": [
       "(64, 32, 64, 5)"
      ]
     },
     "execution_count": 12,
     "metadata": {},
     "output_type": "execute_result"
    }
   ],
   "source": [
    "X, y = dg_train[0];X.shape"
   ]
  },
  {
   "cell_type": "code",
   "execution_count": 30,
   "metadata": {
    "Collapsed": "false"
   },
   "outputs": [],
   "source": [
    "model = build_unet((32, 64, 5), n_layers=5, filters_start=16, channels_out=2)"
   ]
  },
  {
   "cell_type": "code",
   "execution_count": 31,
   "metadata": {
    "Collapsed": "false"
   },
   "outputs": [],
   "source": [
    "# model.summary()"
   ]
  },
  {
   "cell_type": "code",
   "execution_count": 32,
   "metadata": {
    "Collapsed": "false"
   },
   "outputs": [],
   "source": [
    "# from IPython.display import SVG\n",
    "# from tensorflow.keras.utils import model_to_dot, plot_model\n",
    "\n",
    "# plot_model(model, to_file='model.png')"
   ]
  },
  {
   "cell_type": "code",
   "execution_count": 33,
   "metadata": {
    "Collapsed": "false"
   },
   "outputs": [],
   "source": [
    "model.compile('adam', 'mse')"
   ]
  },
  {
   "cell_type": "code",
   "execution_count": 34,
   "metadata": {
    "Collapsed": "false"
   },
   "outputs": [],
   "source": [
    "from src.clr import LRFinder\n",
    "import seaborn as sns\n",
    "sns.set_style('darkgrid')"
   ]
  },
  {
   "cell_type": "code",
   "execution_count": 35,
   "metadata": {
    "Collapsed": "false"
   },
   "outputs": [],
   "source": [
    "lrf = LRFinder(\n",
    "    dg_train.n_samples, batch_size,\n",
    "    minimum_lr=1e-5, maximum_lr=0.01,\n",
    "    lr_scale='exp', save_dir='./', verbose=0)"
   ]
  },
  {
   "cell_type": "code",
   "execution_count": 36,
   "metadata": {
    "Collapsed": "false"
   },
   "outputs": [
    {
     "name": "stdout",
     "output_type": "stream",
     "text": [
      "WARNING:tensorflow:sample_weight modes were coerced from\n",
      "  ...\n",
      "    to  \n",
      "  ['...']\n",
      "Train for 2191 steps\n",
      "2191/2191 [==============================] - 61s 28ms/step - loss: 0.1276\n"
     ]
    },
    {
     "data": {
      "text/plain": [
       "<tensorflow.python.keras.callbacks.History at 0x7fcaac731450>"
      ]
     },
     "execution_count": 36,
     "metadata": {},
     "output_type": "execute_result"
    }
   ],
   "source": [
    "model.fit_generator(dg_train, epochs=1, \n",
    "                    callbacks=[lrf])"
   ]
  },
  {
   "cell_type": "code",
   "execution_count": 41,
   "metadata": {
    "Collapsed": "false"
   },
   "outputs": [
    {
     "data": {
      "text/plain": [
       "<matplotlib.lines.Line2D at 0x7fca740cec90>"
      ]
     },
     "execution_count": 41,
     "metadata": {},
     "output_type": "execute_result"
    },
    {
     "data": {
      "image/png": "[encoded data removed]",
      "text/plain": [
       "<Figure size 432x288 with 1 Axes>"
      ]
     },
     "metadata": {},
     "output_type": "display_data"
    }
   ],
   "source": [
    "plt.plot(10**lrf.lrs, lrf.losses)\n",
    "# plt.yscale('log')\n",
    "plt.ylim(0, 1)\n",
    "plt.xlim(0, 0.002)\n",
    "plt.axvline(0.5e-4)"
   ]
  },
  {
   "cell_type": "markdown",
   "metadata": {
    "Collapsed": "false"
   },
   "source": [
    "## Google UNet"
   ]
  },
  {
   "cell_type": "code",
   "execution_count": 74,
   "metadata": {
    "Collapsed": "false"
   },
   "outputs": [],
   "source": [
    "# https://github.com/DuFanXin/deep_residual_unet/blob/master/res_unet.py\n",
    "def res_block(x, nb_filters, strides):\n",
    "    res_path = BatchNormalization()(x)\n",
    "    res_path = Activation(activation='relu')(res_path)\n",
    "    res_path = Conv2D(filters=nb_filters[0], kernel_size=(3, 3), padding='same', strides=strides[0])(res_path)\n",
    "    res_path = BatchNormalization()(res_path)\n",
    "    res_path = Activation(activation='relu')(res_path)\n",
    "    res_path = Conv2D(filters=nb_filters[1], kernel_size=(3, 3), padding='same', strides=strides[1])(res_path)\n",
    "\n",
    "    shortcut = Conv2D(nb_filters[1], kernel_size=(1, 1), strides=strides[0])(x)\n",
    "    shortcut = BatchNormalization()(shortcut)\n",
    "\n",
    "    res_path = add([shortcut, res_path])\n",
    "    return res_path\n",
    "\n",
    "def encoder(x):\n",
    "    to_decoder = []\n",
    "\n",
    "    main_path = Conv2D(filters=64, kernel_size=(3, 3), padding='same', strides=(1, 1))(x)\n",
    "    main_path = BatchNormalization()(main_path)\n",
    "    main_path = Activation(activation='relu')(main_path)\n",
    "\n",
    "    main_path = Conv2D(filters=64, kernel_size=(3, 3), padding='same', strides=(1, 1))(main_path)\n",
    "\n",
    "    shortcut = Conv2D(filters=64, kernel_size=(1, 1), strides=(1, 1))(x)\n",
    "    shortcut = BatchNormalization()(shortcut)\n",
    "\n",
    "    main_path = add([shortcut, main_path])\n",
    "    # first branching to decoder\n",
    "    to_decoder.append(main_path)\n",
    "\n",
    "    main_path = res_block(main_path, [128, 128], [(2, 2), (1, 1)])\n",
    "    to_decoder.append(main_path)\n",
    "\n",
    "    main_path = res_block(main_path, [256, 256], [(2, 2), (1, 1)])\n",
    "    to_decoder.append(main_path)\n",
    "\n",
    "    return to_decoder\n",
    "\n",
    "\n",
    "def decoder(x, from_encoder):\n",
    "    main_path = UpSampling2D(size=(2, 2))(x)\n",
    "    main_path = concatenate([main_path, from_encoder[2]], axis=3)\n",
    "    main_path = res_block(main_path, [256, 256], [(1, 1), (1, 1)])\n",
    "\n",
    "    main_path = UpSampling2D(size=(2, 2))(main_path)\n",
    "    main_path = concatenate([main_path, from_encoder[1]], axis=3)\n",
    "    main_path = res_block(main_path, [128, 128], [(1, 1), (1, 1)])\n",
    "\n",
    "    main_path = UpSampling2D(size=(2, 2))(main_path)\n",
    "    main_path = concatenate([main_path, from_encoder[0]], axis=3)\n",
    "    main_path = res_block(main_path, [64, 64], [(1, 1), (1, 1)])\n",
    "\n",
    "    return main_path\n",
    "\n",
    "\n",
    "def build_res_unet(input_shape):\n",
    "    inputs = Input(shape=input_shape)\n",
    "\n",
    "    to_decoder = encoder(inputs)\n",
    "\n",
    "    path = res_block(to_decoder[2], [512, 512], [(2, 2), (1, 1)])\n",
    "\n",
    "    path = decoder(path, from_encoder=to_decoder)\n",
    "\n",
    "    path = Conv2D(filters=1, kernel_size=(1, 1), activation='sigmoid')(path)\n",
    "\n",
    "    return keras.models.Model(inputs, path)"
   ]
  },
  {
   "cell_type": "code",
   "execution_count": 75,
   "metadata": {},
   "outputs": [],
   "source": [
    "model = build_res_unet(input_shape=((32, 64, 5,)))"
   ]
  },
  {
   "cell_type": "code",
   "execution_count": 77,
   "metadata": {},
   "outputs": [],
   "source": [
    "# model.summary()"
   ]
  },
  {
   "cell_type": "code",
   "execution_count": 109,
   "metadata": {},
   "outputs": [],
   "source": [
    "# Agrawal et al version\n",
    "def basic_block(x, filters):\n",
    "    shortcut = x\n",
    "    x = PeriodicConv2D(filters, kernel_size=3)(x)\n",
    "    x = BatchNormalization()(x)\n",
    "    x = LeakyReLU()(x)\n",
    "    x = PeriodicConv2D(filters, kernel_size=3)(x)\n",
    "    \n",
    "    shortcut = PeriodicConv2D(filters, kernel_size=3)(shortcut)\n",
    "    return Add()([x, shortcut])\n",
    "\n",
    "def downsample_block(x, filters):\n",
    "    shortcut = x\n",
    "    x = BatchNormalization()(x)\n",
    "    x = LeakyReLU()(x)\n",
    "    x = MaxPooling2D()(x)\n",
    "    x = BatchNormalization()(x)\n",
    "    x = LeakyReLU()(x)\n",
    "    x = PeriodicConv2D(filters, kernel_size=3)(x)\n",
    "    \n",
    "    shortcut = PeriodicConv2D(filters, kernel_size=3, conv_kwargs={'strides': 2})(shortcut)\n",
    "    return Add()([x, shortcut])\n",
    "\n",
    "def upsample_block(x, from_down, filters):\n",
    "    \n",
    "    x = Concatenate()([x, from_down])\n",
    "    x = UpSampling2D()(x)\n",
    "    shortcut = x\n",
    "    \n",
    "    x = BatchNormalization()(x)\n",
    "    x = LeakyReLU()(x)\n",
    "    x = PeriodicConv2D(filters, kernel_size=3)(x)\n",
    "    x = BatchNormalization()(x)\n",
    "    x = LeakyReLU()(x)\n",
    "    x = PeriodicConv2D(filters, kernel_size=3)(x)\n",
    "    \n",
    "    shortcut = PeriodicConv2D(filters, kernel_size=3)(shortcut)\n",
    "    return Add()([x, shortcut])\n",
    "\n",
    "def build_unet_google(filters, input_shape, output_channels):\n",
    "    inputs = x = Input(input_shape)\n",
    "    x = basic_block(x, filters[0])\n",
    "    \n",
    "    # Encoder\n",
    "    from_down = []\n",
    "    for f in filters[:-1]:\n",
    "        x = downsample_block(x, f)\n",
    "        from_down.append(x)\n",
    "    \n",
    "    # Bottleneck\n",
    "    x = basic_block(x, filters[-1])\n",
    "    \n",
    "    # Decoder\n",
    "    for f, d in zip(filters[:-1][::-1], from_down[::-1]):\n",
    "        x = upsample_block(x, d, f)\n",
    "    \n",
    "    # Final \n",
    "    outputs = PeriodicConv2D(output_channels, kernel_size=1)(x)\n",
    "    \n",
    "    return keras.models.Model(inputs, outputs)"
   ]
  },
  {
   "cell_type": "code",
   "execution_count": 110,
   "metadata": {},
   "outputs": [
    {
     "data": {
      "text/plain": [
       "((64, 32, 64, 5), (64, 32, 64, 2))"
      ]
     },
     "execution_count": 110,
     "metadata": {},
     "output_type": "execute_result"
    }
   ],
   "source": [
    "X, y = dg_train[0]\n",
    "X.shape, y.shape"
   ]
  },
  {
   "cell_type": "code",
   "execution_count": 111,
   "metadata": {},
   "outputs": [],
   "source": [
    "model = build_unet_google(\n",
    "    filters=[64, 128, 256, 512], \n",
    "    input_shape=(32, 64, 5,),\n",
    "    output_channels=2\n",
    ")"
   ]
  },
  {
   "cell_type": "code",
   "execution_count": 112,
   "metadata": {},
   "outputs": [],
   "source": [
    "model.compile('adam', 'mse')"
   ]
  },
  {
   "cell_type": "code",
   "execution_count": 113,
   "metadata": {},
   "outputs": [
    {
     "name": "stdout",
     "output_type": "stream",
     "text": [
      "Model: \"model_13\"\n",
      "__________________________________________________________________________________________________\n",
      "Layer (type)                    Output Shape         Param #     Connected to                     \n",
      "==================================================================================================\n",
      "input_25 (InputLayer)           [(None, 32, 64, 5)]  0                                            \n",
      "__________________________________________________________________________________________________\n",
      "periodic_conv2d_306 (PeriodicCo (None, 32, 64, 64)   2944        input_25[0][0]                   \n",
      "__________________________________________________________________________________________________\n",
      "batch_normalization_250 (BatchN (None, 32, 64, 64)   256         periodic_conv2d_306[0][0]        \n",
      "__________________________________________________________________________________________________\n",
      "leaky_re_lu_189 (LeakyReLU)     (None, 32, 64, 64)   0           batch_normalization_250[0][0]    \n",
      "__________________________________________________________________________________________________\n",
      "periodic_conv2d_307 (PeriodicCo (None, 32, 64, 64)   36928       leaky_re_lu_189[0][0]            \n",
      "__________________________________________________________________________________________________\n",
      "periodic_conv2d_308 (PeriodicCo (None, 32, 64, 64)   2944        input_25[0][0]                   \n",
      "__________________________________________________________________________________________________\n",
      "add_134 (Add)                   (None, 32, 64, 64)   0           periodic_conv2d_307[0][0]        \n",
      "                                                                 periodic_conv2d_308[0][0]        \n",
      "__________________________________________________________________________________________________\n",
      "batch_normalization_251 (BatchN (None, 32, 64, 64)   256         add_134[0][0]                    \n",
      "__________________________________________________________________________________________________\n",
      "leaky_re_lu_190 (LeakyReLU)     (None, 32, 64, 64)   0           batch_normalization_251[0][0]    \n",
      "__________________________________________________________________________________________________\n",
      "max_pooling2d_47 (MaxPooling2D) (None, 16, 32, 64)   0           leaky_re_lu_190[0][0]            \n",
      "__________________________________________________________________________________________________\n",
      "batch_normalization_252 (BatchN (None, 16, 32, 64)   256         max_pooling2d_47[0][0]           \n",
      "__________________________________________________________________________________________________\n",
      "leaky_re_lu_191 (LeakyReLU)     (None, 16, 32, 64)   0           batch_normalization_252[0][0]    \n",
      "__________________________________________________________________________________________________\n",
      "periodic_conv2d_309 (PeriodicCo (None, 16, 32, 64)   36928       leaky_re_lu_191[0][0]            \n",
      "__________________________________________________________________________________________________\n",
      "periodic_conv2d_310 (PeriodicCo (None, 16, 32, 64)   36928       add_134[0][0]                    \n",
      "__________________________________________________________________________________________________\n",
      "add_135 (Add)                   (None, 16, 32, 64)   0           periodic_conv2d_309[0][0]        \n",
      "                                                                 periodic_conv2d_310[0][0]        \n",
      "__________________________________________________________________________________________________\n",
      "batch_normalization_253 (BatchN (None, 16, 32, 64)   256         add_135[0][0]                    \n",
      "__________________________________________________________________________________________________\n",
      "leaky_re_lu_192 (LeakyReLU)     (None, 16, 32, 64)   0           batch_normalization_253[0][0]    \n",
      "__________________________________________________________________________________________________\n",
      "max_pooling2d_48 (MaxPooling2D) (None, 8, 16, 64)    0           leaky_re_lu_192[0][0]            \n",
      "__________________________________________________________________________________________________\n",
      "batch_normalization_254 (BatchN (None, 8, 16, 64)    256         max_pooling2d_48[0][0]           \n",
      "__________________________________________________________________________________________________\n",
      "leaky_re_lu_193 (LeakyReLU)     (None, 8, 16, 64)    0           batch_normalization_254[0][0]    \n",
      "__________________________________________________________________________________________________\n",
      "periodic_conv2d_311 (PeriodicCo (None, 8, 16, 128)   73856       leaky_re_lu_193[0][0]            \n",
      "__________________________________________________________________________________________________\n",
      "periodic_conv2d_312 (PeriodicCo (None, 8, 16, 128)   73856       add_135[0][0]                    \n",
      "__________________________________________________________________________________________________\n",
      "add_136 (Add)                   (None, 8, 16, 128)   0           periodic_conv2d_311[0][0]        \n",
      "                                                                 periodic_conv2d_312[0][0]        \n",
      "__________________________________________________________________________________________________\n",
      "batch_normalization_255 (BatchN (None, 8, 16, 128)   512         add_136[0][0]                    \n",
      "__________________________________________________________________________________________________\n",
      "leaky_re_lu_194 (LeakyReLU)     (None, 8, 16, 128)   0           batch_normalization_255[0][0]    \n",
      "__________________________________________________________________________________________________\n",
      "max_pooling2d_49 (MaxPooling2D) (None, 4, 8, 128)    0           leaky_re_lu_194[0][0]            \n",
      "__________________________________________________________________________________________________\n",
      "batch_normalization_256 (BatchN (None, 4, 8, 128)    512         max_pooling2d_49[0][0]           \n",
      "__________________________________________________________________________________________________\n",
      "leaky_re_lu_195 (LeakyReLU)     (None, 4, 8, 128)    0           batch_normalization_256[0][0]    \n",
      "__________________________________________________________________________________________________\n",
      "periodic_conv2d_313 (PeriodicCo (None, 4, 8, 256)    295168      leaky_re_lu_195[0][0]            \n",
      "__________________________________________________________________________________________________\n",
      "periodic_conv2d_314 (PeriodicCo (None, 4, 8, 256)    295168      add_136[0][0]                    \n",
      "__________________________________________________________________________________________________\n",
      "add_137 (Add)                   (None, 4, 8, 256)    0           periodic_conv2d_313[0][0]        \n",
      "                                                                 periodic_conv2d_314[0][0]        \n",
      "__________________________________________________________________________________________________\n",
      "periodic_conv2d_315 (PeriodicCo (None, 4, 8, 512)    1180160     add_137[0][0]                    \n",
      "__________________________________________________________________________________________________\n",
      "batch_normalization_257 (BatchN (None, 4, 8, 512)    2048        periodic_conv2d_315[0][0]        \n",
      "__________________________________________________________________________________________________\n",
      "leaky_re_lu_196 (LeakyReLU)     (None, 4, 8, 512)    0           batch_normalization_257[0][0]    \n",
      "__________________________________________________________________________________________________\n",
      "periodic_conv2d_316 (PeriodicCo (None, 4, 8, 512)    2359808     leaky_re_lu_196[0][0]            \n",
      "__________________________________________________________________________________________________\n",
      "periodic_conv2d_317 (PeriodicCo (None, 4, 8, 512)    1180160     add_137[0][0]                    \n",
      "__________________________________________________________________________________________________\n",
      "add_138 (Add)                   (None, 4, 8, 512)    0           periodic_conv2d_316[0][0]        \n",
      "                                                                 periodic_conv2d_317[0][0]        \n",
      "__________________________________________________________________________________________________\n",
      "concatenate_39 (Concatenate)    (None, 4, 8, 768)    0           add_138[0][0]                    \n",
      "                                                                 add_137[0][0]                    \n",
      "__________________________________________________________________________________________________\n",
      "up_sampling2d_39 (UpSampling2D) (None, 8, 16, 768)   0           concatenate_39[0][0]             \n",
      "__________________________________________________________________________________________________\n",
      "batch_normalization_258 (BatchN (None, 8, 16, 768)   3072        up_sampling2d_39[0][0]           \n",
      "__________________________________________________________________________________________________\n",
      "leaky_re_lu_197 (LeakyReLU)     (None, 8, 16, 768)   0           batch_normalization_258[0][0]    \n",
      "__________________________________________________________________________________________________\n",
      "periodic_conv2d_318 (PeriodicCo (None, 8, 16, 256)   1769728     leaky_re_lu_197[0][0]            \n",
      "__________________________________________________________________________________________________\n",
      "batch_normalization_259 (BatchN (None, 8, 16, 256)   1024        periodic_conv2d_318[0][0]        \n",
      "__________________________________________________________________________________________________\n",
      "leaky_re_lu_198 (LeakyReLU)     (None, 8, 16, 256)   0           batch_normalization_259[0][0]    \n",
      "__________________________________________________________________________________________________\n",
      "periodic_conv2d_319 (PeriodicCo (None, 8, 16, 256)   590080      leaky_re_lu_198[0][0]            \n",
      "__________________________________________________________________________________________________\n",
      "periodic_conv2d_320 (PeriodicCo (None, 8, 16, 256)   1769728     up_sampling2d_39[0][0]           \n",
      "__________________________________________________________________________________________________\n",
      "add_139 (Add)                   (None, 8, 16, 256)   0           periodic_conv2d_319[0][0]        \n",
      "                                                                 periodic_conv2d_320[0][0]        \n",
      "__________________________________________________________________________________________________\n",
      "concatenate_40 (Concatenate)    (None, 8, 16, 384)   0           add_139[0][0]                    \n",
      "                                                                 add_136[0][0]                    \n",
      "__________________________________________________________________________________________________\n",
      "up_sampling2d_40 (UpSampling2D) (None, 16, 32, 384)  0           concatenate_40[0][0]             \n",
      "__________________________________________________________________________________________________\n",
      "batch_normalization_260 (BatchN (None, 16, 32, 384)  1536        up_sampling2d_40[0][0]           \n",
      "__________________________________________________________________________________________________\n",
      "leaky_re_lu_199 (LeakyReLU)     (None, 16, 32, 384)  0           batch_normalization_260[0][0]    \n",
      "__________________________________________________________________________________________________\n",
      "periodic_conv2d_321 (PeriodicCo (None, 16, 32, 128)  442496      leaky_re_lu_199[0][0]            \n",
      "__________________________________________________________________________________________________\n",
      "batch_normalization_261 (BatchN (None, 16, 32, 128)  512         periodic_conv2d_321[0][0]        \n",
      "__________________________________________________________________________________________________\n",
      "leaky_re_lu_200 (LeakyReLU)     (None, 16, 32, 128)  0           batch_normalization_261[0][0]    \n",
      "__________________________________________________________________________________________________\n",
      "periodic_conv2d_322 (PeriodicCo (None, 16, 32, 128)  147584      leaky_re_lu_200[0][0]            \n",
      "__________________________________________________________________________________________________\n",
      "periodic_conv2d_323 (PeriodicCo (None, 16, 32, 128)  442496      up_sampling2d_40[0][0]           \n",
      "__________________________________________________________________________________________________\n",
      "add_140 (Add)                   (None, 16, 32, 128)  0           periodic_conv2d_322[0][0]        \n",
      "                                                                 periodic_conv2d_323[0][0]        \n",
      "__________________________________________________________________________________________________\n",
      "concatenate_41 (Concatenate)    (None, 16, 32, 192)  0           add_140[0][0]                    \n",
      "                                                                 add_135[0][0]                    \n",
      "__________________________________________________________________________________________________\n",
      "up_sampling2d_41 (UpSampling2D) (None, 32, 64, 192)  0           concatenate_41[0][0]             \n",
      "__________________________________________________________________________________________________\n",
      "batch_normalization_262 (BatchN (None, 32, 64, 192)  768         up_sampling2d_41[0][0]           \n",
      "__________________________________________________________________________________________________\n",
      "leaky_re_lu_201 (LeakyReLU)     (None, 32, 64, 192)  0           batch_normalization_262[0][0]    \n",
      "__________________________________________________________________________________________________\n",
      "periodic_conv2d_324 (PeriodicCo (None, 32, 64, 64)   110656      leaky_re_lu_201[0][0]            \n",
      "__________________________________________________________________________________________________\n",
      "batch_normalization_263 (BatchN (None, 32, 64, 64)   256         periodic_conv2d_324[0][0]        \n",
      "__________________________________________________________________________________________________\n",
      "leaky_re_lu_202 (LeakyReLU)     (None, 32, 64, 64)   0           batch_normalization_263[0][0]    \n",
      "__________________________________________________________________________________________________\n",
      "periodic_conv2d_325 (PeriodicCo (None, 32, 64, 64)   36928       leaky_re_lu_202[0][0]            \n",
      "__________________________________________________________________________________________________\n",
      "periodic_conv2d_326 (PeriodicCo (None, 32, 64, 64)   110656      up_sampling2d_41[0][0]           \n",
      "__________________________________________________________________________________________________\n",
      "add_141 (Add)                   (None, 32, 64, 64)   0           periodic_conv2d_325[0][0]        \n",
      "                                                                 periodic_conv2d_326[0][0]        \n",
      "__________________________________________________________________________________________________\n",
      "periodic_conv2d_327 (PeriodicCo (None, 32, 64, 2)    130         add_141[0][0]                    \n",
      "==================================================================================================\n",
      "Total params: 11,006,850\n",
      "Trainable params: 11,001,090\n",
      "Non-trainable params: 5,760\n",
      "__________________________________________________________________________________________________\n"
     ]
    }
   ],
   "source": [
    "model.summary()"
   ]
  },
  {
   "cell_type": "code",
   "execution_count": 115,
   "metadata": {},
   "outputs": [],
   "source": [
    "from IPython.display import SVG\n",
    "from tensorflow.keras.utils import model_to_dot, plot_model\n",
    "\n",
    "# plot_model(model, to_file='model.png', show_shapes=True, dpi=200)"
   ]
  },
  {
   "cell_type": "code",
   "execution_count": 116,
   "metadata": {
    "Collapsed": "false"
   },
   "outputs": [],
   "source": [
    "from src.clr import LRFinder\n",
    "import seaborn as sns\n",
    "sns.set_style('darkgrid')"
   ]
  },
  {
   "cell_type": "code",
   "execution_count": 117,
   "metadata": {
    "Collapsed": "false"
   },
   "outputs": [],
   "source": [
    "lrf = LRFinder(\n",
    "    dg_train.n_samples, batch_size,\n",
    "    minimum_lr=1e-5, maximum_lr=0.01,\n",
    "    lr_scale='exp', save_dir='./', verbose=0)"
   ]
  },
  {
   "cell_type": "code",
   "execution_count": 118,
   "metadata": {
    "Collapsed": "false"
   },
   "outputs": [
    {
     "name": "stdout",
     "output_type": "stream",
     "text": [
      "WARNING:tensorflow:sample_weight modes were coerced from\n",
      "  ...\n",
      "    to  \n",
      "  ['...']\n",
      "Train for 2191 steps\n",
      "2191/2191 [==============================] - 212s 97ms/step - loss: 384246291072.0213\n"
     ]
    },
    {
     "data": {
      "text/plain": [
       "<tensorflow.python.keras.callbacks.History at 0x7f0de015d7d0>"
      ]
     },
     "execution_count": 118,
     "metadata": {},
     "output_type": "execute_result"
    }
   ],
   "source": [
    "model.fit_generator(dg_train, epochs=1, \n",
    "                    callbacks=[lrf])"
   ]
  },
  {
   "cell_type": "code",
   "execution_count": 119,
   "metadata": {
    "Collapsed": "false"
   },
   "outputs": [
    {
     "data": {
      "text/plain": [
       "<matplotlib.lines.Line2D at 0x7f0dc45396d0>"
      ]
     },
     "execution_count": 119,
     "metadata": {},
     "output_type": "execute_result"
    },
    {
     "data": {
      "image/png": "[encoded data removed]",
      "text/plain": [
       "<Figure size 432x288 with 1 Axes>"
      ]
     },
     "metadata": {},
     "output_type": "display_data"
    }
   ],
   "source": [
    "plt.plot(10**lrf.lrs, lrf.losses)\n",
    "# plt.yscale('log')\n",
    "plt.ylim(0, 1)\n",
    "plt.xlim(0, 0.002)\n",
    "plt.axvline(0.5e-4)"
   ]
  },
  {
   "cell_type": "code",
   "execution_count": null,
   "metadata": {},
   "outputs": [],
   "source": []
  }
 ],
 "metadata": {
  "kernelspec": {
   "display_name": "Python 3",
   "language": "python",
   "name": "python3"
  },
  "language_info": {
   "codemirror_mode": {
    "name": "ipython",
    "version": 3
   },
   "file_extension": ".py",
   "mimetype": "text/x-python",
   "name": "python",
   "nbconvert_exporter": "python",
   "pygments_lexer": "ipython3",
   "version": "3.7.4"
  }
 },
 "nbformat": 4,
 "nbformat_minor": 4
}
