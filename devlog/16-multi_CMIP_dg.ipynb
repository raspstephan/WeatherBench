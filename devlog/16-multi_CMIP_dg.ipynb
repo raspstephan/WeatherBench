{
 "cells": [
  {
   "cell_type": "code",
   "execution_count": 5,
   "metadata": {},
   "outputs": [
    {
     "name": "stdout",
     "output_type": "stream",
     "text": [
      "The autoreload extension is already loaded. To reload it, use:\n",
      "  %reload_ext autoreload\n"
     ]
    }
   ],
   "source": [
    "%load_ext autoreload\n",
    "%autoreload 2"
   ]
  },
  {
   "cell_type": "code",
   "execution_count": 23,
   "metadata": {},
   "outputs": [],
   "source": [
    "import ast\n",
    "import xarray as xr\n",
    "import matplotlib.pyplot as plt\n",
    "from src.data_generator import *\n",
    "from src.train import *"
   ]
  },
  {
   "cell_type": "code",
   "execution_count": 24,
   "metadata": {},
   "outputs": [],
   "source": [
    "args = load_args('../nn_configs/B/42-resnet_cmip.yml')"
   ]
  },
  {
   "cell_type": "code",
   "execution_count": 32,
   "metadata": {},
   "outputs": [],
   "source": [
    "args['train_years'] = ['2000', '2000']\n",
    "args['valid_years'] = ['2001', '2001']\n",
    "args['test_years'] = ['2002', '2002']"
   ]
  },
  {
   "cell_type": "code",
   "execution_count": 34,
   "metadata": {},
   "outputs": [],
   "source": [
    "args['cmip_dir'] = '/data/stephan/WeatherBench/CMIP/MPI-ESM/5.625deg/'"
   ]
  },
  {
   "cell_type": "code",
   "execution_count": 36,
   "metadata": {},
   "outputs": [
    {
     "name": "stdout",
     "output_type": "stream",
     "text": [
      "DG start 18:24:22.115990\n",
      "DG normalize 18:24:22.135941\n",
      "DG load 18:24:26.886845\n",
      "Loading data into RAM\n",
      "DG done 18:24:31.247100\n",
      "DG start 18:24:31.247345\n",
      "DG normalize 18:24:31.267263\n",
      "DG load 18:24:31.273878\n",
      "Loading data into RAM\n",
      "DG done 18:24:34.498328\n",
      "DG start 18:24:34.498693\n",
      "DG normalize 18:24:34.517753\n",
      "DG load 18:24:34.528838\n",
      "Loading data into RAM\n",
      "DG done 18:24:37.331207\n",
      "Mean = <xarray.DataArray 'z' (level: 15)>\n",
      "array([ 1.00751284e+05,  5.39614420e+04,  1.37286684e+04,  2.20535985e+02,\n",
      "        2.51837688e+02,  2.72880590e+02,  1.49779122e+01,  6.90090338e+00,\n",
      "        1.43022812e+00, -7.11210987e-02,  1.24802876e-01, -5.02551735e-02,\n",
      "        3.37078289e-01,  3.79497583e+02,  0.00000000e+00])\n",
      "Coordinates:\n",
      "  * level        (level) float64 250.0 500.0 850.0 250.0 ... 850.0 1.0 1.0 1.0\n",
      "    level_names  (level) <U9 'z_250' 'z_500' 'z_850' ... 'orography' 'lat2d'; Std = <xarray.DataArray 'z' (level: 15)>\n",
      "array([5.48829105e+03, 3.20596656e+03, 1.33347345e+03, 8.62047865e+00,\n",
      "       1.32299774e+01, 1.47466288e+01, 2.02442700e+01, 1.27188130e+01,\n",
      "       7.79068362e+00, 1.32516761e+01, 8.32228722e+00, 5.52929992e+00,\n",
      "       4.59003773e-01, 8.59872249e+02, 5.19361462e+01])\n",
      "Coordinates:\n",
      "  * level        (level) float64 250.0 500.0 850.0 250.0 ... 850.0 1.0 1.0 1.0\n",
      "    level_names  (level) <U9 'z_250' 'z_500' 'z_850' ... 'orography' 'lat2d'\n"
     ]
    }
   ],
   "source": [
    "dg_train1, dg_valid1, dg_test1 = load_data(**args)"
   ]
  },
  {
   "cell_type": "code",
   "execution_count": 37,
   "metadata": {},
   "outputs": [],
   "source": [
    "args['cmip_dir'] = '/data/stephan/WeatherBench/CMIP/MIROC6/5.625deg/'"
   ]
  },
  {
   "cell_type": "code",
   "execution_count": 38,
   "metadata": {},
   "outputs": [
    {
     "name": "stdout",
     "output_type": "stream",
     "text": [
      "DG start 18:24:57.674809\n",
      "DG normalize 18:24:57.691460\n",
      "DG load 18:24:58.148188\n",
      "Loading data into RAM\n",
      "DG done 18:24:58.838304\n",
      "DG start 18:24:58.838556\n",
      "DG normalize 18:24:58.856053\n",
      "DG load 18:24:58.863329\n",
      "Loading data into RAM\n",
      "DG done 18:24:59.722488\n",
      "DG start 18:24:59.722854\n",
      "DG normalize 18:24:59.744623\n",
      "DG load 18:24:59.752200\n",
      "Loading data into RAM\n",
      "DG done 18:25:00.588440\n",
      "Mean = <xarray.DataArray 'z' (level: 15)>\n",
      "array([ 1.00622828e+05,  5.37757025e+04,  1.36190654e+04,  2.19914501e+02,\n",
      "        2.52147621e+02,  2.75207206e+02,  1.34681897e+01,  6.35267338e+00,\n",
      "        1.11280969e+00,  3.19886552e-01, -3.32396817e-02, -3.85414295e-01,\n",
      "        3.37078289e-01,  3.79497583e+02,  0.00000000e+00])\n",
      "Coordinates:\n",
      "  * level        (level) float64 250.0 500.0 850.0 250.0 ... 850.0 1.0 1.0 1.0\n",
      "    level_names  (level) <U9 'z_250' 'z_500' 'z_850' ... 'orography' 'lat2d'; Std = <xarray.DataArray 'z' (level: 15)>\n",
      "array([5.21302963e+03, 3.01871551e+03, 1.24267878e+03, 8.15501167e+00,\n",
      "       1.25467079e+01, 1.35826045e+01, 1.88801327e+01, 1.19644040e+01,\n",
      "       8.23427141e+00, 1.40720224e+01, 8.55570837e+00, 6.12795190e+00,\n",
      "       4.59003773e-01, 8.59872249e+02, 5.19361462e+01])\n",
      "Coordinates:\n",
      "  * level        (level) float64 250.0 500.0 850.0 250.0 ... 850.0 1.0 1.0 1.0\n",
      "    level_names  (level) <U9 'z_250' 'z_500' 'z_850' ... 'orography' 'lat2d'\n"
     ]
    }
   ],
   "source": [
    "dg_train2, dg_valid2, dg_test2 = load_data(**args)"
   ]
  },
  {
   "cell_type": "code",
   "execution_count": 57,
   "metadata": {},
   "outputs": [
    {
     "data": {
      "text/html": [
       "<pre>&lt;xarray.DataArray &#x27;z&#x27; (level: 15)&gt;\n",
       "array([ 1.00751284e+05,  5.39614420e+04,  1.37286684e+04,  2.20535985e+02,\n",
       "        2.51837688e+02,  2.72880590e+02,  1.49779122e+01,  6.90090338e+00,\n",
       "        1.43022812e+00, -7.11210987e-02,  1.24802876e-01, -5.02551735e-02,\n",
       "        3.37078289e-01,  3.79497583e+02,  0.00000000e+00])\n",
       "Coordinates:\n",
       "  * level        (level) float64 250.0 500.0 850.0 250.0 ... 850.0 1.0 1.0 1.0\n",
       "    level_names  (level) &lt;U9 &#x27;z_250&#x27; &#x27;z_500&#x27; &#x27;z_850&#x27; ... &#x27;orography&#x27; &#x27;lat2d&#x27;</pre>"
      ],
      "text/plain": [
       "<xarray.DataArray 'z' (level: 15)>\n",
       "array([ 1.00751284e+05,  5.39614420e+04,  1.37286684e+04,  2.20535985e+02,\n",
       "        2.51837688e+02,  2.72880590e+02,  1.49779122e+01,  6.90090338e+00,\n",
       "        1.43022812e+00, -7.11210987e-02,  1.24802876e-01, -5.02551735e-02,\n",
       "        3.37078289e-01,  3.79497583e+02,  0.00000000e+00])\n",
       "Coordinates:\n",
       "  * level        (level) float64 250.0 500.0 850.0 250.0 ... 850.0 1.0 1.0 1.0\n",
       "    level_names  (level) <U9 'z_250' 'z_500' 'z_850' ... 'orography' 'lat2d'"
      ]
     },
     "execution_count": 57,
     "metadata": {},
     "output_type": "execute_result"
    }
   ],
   "source": [
    "dg_train1.mean"
   ]
  },
  {
   "cell_type": "code",
   "execution_count": 58,
   "metadata": {},
   "outputs": [
    {
     "data": {
      "text/html": [
       "<pre>&lt;xarray.DataArray &#x27;z&#x27; (level: 15)&gt;\n",
       "array([ 1.00622828e+05,  5.37757025e+04,  1.36190654e+04,  2.19914501e+02,\n",
       "        2.52147621e+02,  2.75207206e+02,  1.34681897e+01,  6.35267338e+00,\n",
       "        1.11280969e+00,  3.19886552e-01, -3.32396817e-02, -3.85414295e-01,\n",
       "        3.37078289e-01,  3.79497583e+02,  0.00000000e+00])\n",
       "Coordinates:\n",
       "  * level        (level) float64 250.0 500.0 850.0 250.0 ... 850.0 1.0 1.0 1.0\n",
       "    level_names  (level) &lt;U9 &#x27;z_250&#x27; &#x27;z_500&#x27; &#x27;z_850&#x27; ... &#x27;orography&#x27; &#x27;lat2d&#x27;</pre>"
      ],
      "text/plain": [
       "<xarray.DataArray 'z' (level: 15)>\n",
       "array([ 1.00622828e+05,  5.37757025e+04,  1.36190654e+04,  2.19914501e+02,\n",
       "        2.52147621e+02,  2.75207206e+02,  1.34681897e+01,  6.35267338e+00,\n",
       "        1.11280969e+00,  3.19886552e-01, -3.32396817e-02, -3.85414295e-01,\n",
       "        3.37078289e-01,  3.79497583e+02,  0.00000000e+00])\n",
       "Coordinates:\n",
       "  * level        (level) float64 250.0 500.0 850.0 250.0 ... 850.0 1.0 1.0 1.0\n",
       "    level_names  (level) <U9 'z_250' 'z_500' 'z_850' ... 'orography' 'lat2d'"
      ]
     },
     "execution_count": 58,
     "metadata": {},
     "output_type": "execute_result"
    }
   ],
   "source": [
    "dg_train2.mean"
   ]
  },
  {
   "cell_type": "code",
   "execution_count": 48,
   "metadata": {},
   "outputs": [
    {
     "data": {
      "image/png": "[encoded data removed]",
      "text/plain": [
       "<Figure size 432x288 with 1 Axes>"
      ]
     },
     "metadata": {
      "needs_background": "light"
     },
     "output_type": "display_data"
    }
   ],
   "source": [
    "plt.plot(dg_train1.mean)\n",
    "plt.plot(dg_train2.mean)\n",
    "plt.yscale('log')\n",
    "plt.xticks(range(15), dg_train1.mean.level_names.values, rotation=90);"
   ]
  },
  {
   "cell_type": "code",
   "execution_count": 56,
   "metadata": {},
   "outputs": [
    {
     "data": {
      "image/png": "[encoded data removed]",
      "text/plain": [
       "<Figure size 432x288 with 1 Axes>"
      ]
     },
     "metadata": {
      "needs_background": "light"
     },
     "output_type": "display_data"
    }
   ],
   "source": [
    "plt.plot(dg_train1.mean)\n",
    "plt.plot(dg_train2.mean)\n",
    "plt.plot(dg_train1.std)\n",
    "plt.plot(dg_train2.std)\n",
    "plt.yscale('log')\n",
    "plt.ylim(1e-3, 1e5)\n",
    "plt.xticks(range(15), dg_train1.mean.level_names.values, rotation=90);"
   ]
  },
  {
   "cell_type": "code",
   "execution_count": 60,
   "metadata": {},
   "outputs": [
    {
     "data": {
      "text/plain": [
       "64"
      ]
     },
     "execution_count": 60,
     "metadata": {},
     "output_type": "execute_result"
    }
   ],
   "source": [
    "dg_train1.batch_size"
   ]
  },
  {
   "cell_type": "code",
   "execution_count": 62,
   "metadata": {},
   "outputs": [
    {
     "data": {
      "text/plain": [
       "(12, 12)"
      ]
     },
     "execution_count": 62,
     "metadata": {},
     "output_type": "execute_result"
    }
   ],
   "source": [
    "len(dg_train1), len(dg_train2)"
   ]
  },
  {
   "cell_type": "code",
   "execution_count": 64,
   "metadata": {},
   "outputs": [
    {
     "data": {
      "text/plain": [
       "(726, 726)"
      ]
     },
     "execution_count": 64,
     "metadata": {},
     "output_type": "execute_result"
    }
   ],
   "source": [
    "len(dg_train1.idxs), len(dg_train2.idxs)"
   ]
  },
  {
   "cell_type": "code",
   "execution_count": 66,
   "metadata": {},
   "outputs": [],
   "source": [
    "dgs=[dg_train1, dg_train2]"
   ]
  },
  {
   "cell_type": "code",
   "execution_count": 73,
   "metadata": {},
   "outputs": [
    {
     "data": {
      "text/plain": [
       "(64, 32, 64, 15)"
      ]
     },
     "execution_count": 73,
     "metadata": {},
     "output_type": "execute_result"
    }
   ],
   "source": [
    "dg_train1[0][0].shape"
   ]
  },
  {
   "cell_type": "code",
   "execution_count": 77,
   "metadata": {},
   "outputs": [],
   "source": [
    "class CombinedDataGenerator(keras.utils.Sequence):\n",
    "    \"\"\"For now assumes same length\"\"\"\n",
    "    def __init__(self, dgs, batch_size):\n",
    "        self.dgs = dgs\n",
    "        self.batch_size = batch_size\n",
    "        assert batch_size % len(dgs) == 0, 'Batch size % number dgs must be zero.'\n",
    "        for dg in dgs: dg.batch_size = batch_size // len(dgs)\n",
    "        \n",
    "    def __len__(self):\n",
    "        total_samples = np.sum([len(dg.idxs) for dg in dgs])\n",
    "        return int(np.ceil(total_samples / self.batch_size))\n",
    "    \n",
    "    def __getitem__(self, i):\n",
    "        Xs = []; ys = []\n",
    "        for dg in self.dgs:\n",
    "            X, y = dg[i]\n",
    "            Xs.append(X); ys.append(y)\n",
    "        return np.concatenate(Xs), np.concatenate(ys)\n",
    "    \n",
    "    def on_epoch_end(self):\n",
    "        for dg in dgs:\n",
    "            dg.on_epoch_end()"
   ]
  },
  {
   "cell_type": "code",
   "execution_count": 78,
   "metadata": {},
   "outputs": [],
   "source": [
    "cdg  = CombinedDataGenerator(dgs, 64)"
   ]
  },
  {
   "cell_type": "code",
   "execution_count": 79,
   "metadata": {},
   "outputs": [
    {
     "data": {
      "text/plain": [
       "32"
      ]
     },
     "execution_count": 79,
     "metadata": {},
     "output_type": "execute_result"
    }
   ],
   "source": [
    "cdg.dgs[0].batch_size"
   ]
  },
  {
   "cell_type": "code",
   "execution_count": 80,
   "metadata": {},
   "outputs": [],
   "source": [
    "X, y = cdg[0]"
   ]
  },
  {
   "cell_type": "code",
   "execution_count": 81,
   "metadata": {},
   "outputs": [
    {
     "data": {
      "text/plain": [
       "(64, 32, 64, 15)"
      ]
     },
     "execution_count": 81,
     "metadata": {},
     "output_type": "execute_result"
    }
   ],
   "source": [
    "X.shape"
   ]
  },
  {
   "cell_type": "code",
   "execution_count": null,
   "metadata": {},
   "outputs": [],
   "source": []
  }
 ],
 "metadata": {
  "kernelspec": {
   "display_name": "Python 3",
   "language": "python",
   "name": "python3"
  },
  "language_info": {
   "codemirror_mode": {
    "name": "ipython",
    "version": 3
   },
   "file_extension": ".py",
   "mimetype": "text/x-python",
   "name": "python",
   "nbconvert_exporter": "python",
   "pygments_lexer": "ipython3",
   "version": "3.7.4"
  }
 },
 "nbformat": 4,
 "nbformat_minor": 4
}
