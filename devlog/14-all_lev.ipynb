{
 "cells": [
  {
   "cell_type": "code",
   "execution_count": 1,
   "metadata": {},
   "outputs": [],
   "source": [
    "%load_ext autoreload\n",
    "%autoreload 2"
   ]
  },
  {
   "cell_type": "code",
   "execution_count": 10,
   "metadata": {},
   "outputs": [],
   "source": [
    "import re, os\n",
    "import numpy as np\n",
    "import xarray as xr\n",
    "import tensorflow.keras as keras\n",
    "import datetime\n",
    "import pdb\n",
    "import matplotlib.pyplot as plt\n",
    "from src.utils import *\n",
    "from src.score import *\n",
    "from src.data_generator import *\n",
    "from src.networks import *"
   ]
  },
  {
   "cell_type": "code",
   "execution_count": 11,
   "metadata": {},
   "outputs": [],
   "source": [
    "os.environ[\"CUDA_VISIBLE_DEVICES\"]=str(0)\n",
    "limit_mem()"
   ]
  },
  {
   "cell_type": "code",
   "execution_count": 15,
   "metadata": {},
   "outputs": [],
   "source": [
    "var_dict = {'geopotential': ('z', [200, 500, 850]), 'temperature': ('t', [200, 500, 850]), 'u_component_of_wind': ('u', [200, 500, 850]), 'v_component_of_wind': ('v', [200, 500, 850]), 'constants': ['lsm','orography','lat2d']}\n",
    "output_vars = ['z_*', 't_*', 'u_*', 'v_*']\n",
    "lead_time = 72\n",
    "batch_size = 64\n",
    "data_subsample = 2\n",
    "norm_subsample = 30000"
   ]
  },
  {
   "cell_type": "code",
   "execution_count": 5,
   "metadata": {},
   "outputs": [],
   "source": [
    "datadir = '/data/stephan/WeatherBench/5.625deg/'"
   ]
  },
  {
   "cell_type": "code",
   "execution_count": 6,
   "metadata": {},
   "outputs": [],
   "source": [
    "ds = xr.merge([xr.open_mfdataset(f'{datadir}/{var}/*.nc', combine='by_coords') for var in var_dict.keys()])"
   ]
  },
  {
   "cell_type": "code",
   "execution_count": 12,
   "metadata": {},
   "outputs": [],
   "source": [
    "ds_train = ds.sel(time=slice('1979', '2015'))\n",
    "ds_valid = ds.sel(time=slice('2016', '2016'))\n",
    "ds_test = ds.sel(time=slice('2017', '2018'))"
   ]
  },
  {
   "cell_type": "code",
   "execution_count": 16,
   "metadata": {},
   "outputs": [
    {
     "name": "stdout",
     "output_type": "stream",
     "text": [
      "DG start 18:32:12.564731\n",
      "DG normalize 18:32:12.590290\n",
      "DG load 18:32:35.030203\n",
      "Loading data into RAM\n",
      "DG done 18:41:56.659031\n",
      "DG start 18:41:56.662950\n",
      "DG normalize 18:41:56.694321\n",
      "DG load 18:41:56.706673\n",
      "Loading data into RAM\n",
      "DG done 18:42:08.832442\n"
     ]
    }
   ],
   "source": [
    "dg_train = DataGenerator(\n",
    "    ds_train, var_dict, lead_time, batch_size=batch_size, output_vars=output_vars,\n",
    "    data_subsample=data_subsample, norm_subsample=norm_subsample\n",
    ")\n",
    "dg_test =  DataGenerator(\n",
    "    ds_test, var_dict, lead_time, batch_size=batch_size, mean=dg_train.mean, std=dg_train.std,\n",
    "    shuffle=False, output_vars=output_vars\n",
    ")"
   ]
  },
  {
   "cell_type": "code",
   "execution_count": 31,
   "metadata": {},
   "outputs": [],
   "source": [
    "X, y = dg_test[0]"
   ]
  },
  {
   "cell_type": "code",
   "execution_count": 32,
   "metadata": {},
   "outputs": [
    {
     "data": {
      "text/plain": [
       "((64, 32, 64, 15), (64, 32, 64, 12))"
      ]
     },
     "execution_count": 32,
     "metadata": {},
     "output_type": "execute_result"
    }
   ],
   "source": [
    "X.shape, y.shape"
   ]
  },
  {
   "cell_type": "code",
   "execution_count": 37,
   "metadata": {},
   "outputs": [
    {
     "data": {
      "text/plain": [
       "[<matplotlib.lines.Line2D at 0x7f59ac749550>]"
      ]
     },
     "execution_count": 37,
     "metadata": {},
     "output_type": "execute_result"
    },
    {
     "data": {
      "image/png": "[encoded data removed]",
      "text/plain": [
       "<Figure size 432x288 with 1 Axes>"
      ]
     },
     "metadata": {
      "needs_background": "light"
     },
     "output_type": "display_data"
    }
   ],
   "source": [
    "plt.plot(y.std(axis=(0, 1, 2)))"
   ]
  },
  {
   "cell_type": "code",
   "execution_count": 36,
   "metadata": {},
   "outputs": [
    {
     "data": {
      "text/html": [
       "<pre>&lt;xarray.DataArray &#x27;level_names&#x27; (level: 15)&gt;\n",
       "array([&#x27;z_200&#x27;, &#x27;z_500&#x27;, &#x27;z_850&#x27;, &#x27;t_200&#x27;, &#x27;t_500&#x27;, &#x27;t_850&#x27;, &#x27;u_200&#x27;,\n",
       "       &#x27;u_500&#x27;, &#x27;u_850&#x27;, &#x27;v_200&#x27;, &#x27;v_500&#x27;, &#x27;v_850&#x27;, &#x27;lsm&#x27;, &#x27;orography&#x27;,\n",
       "       &#x27;lat2d&#x27;], dtype=&#x27;&lt;U9&#x27;)\n",
       "Coordinates:\n",
       "  * level        (level) int64 200 500 850 200 500 850 200 ... 200 500 850 1 1 1\n",
       "    level_names  (level) &lt;U9 &#x27;z_200&#x27; &#x27;z_500&#x27; &#x27;z_850&#x27; ... &#x27;orography&#x27; &#x27;lat2d&#x27;</pre>"
      ],
      "text/plain": [
       "<xarray.DataArray 'level_names' (level: 15)>\n",
       "array(['z_200', 'z_500', 'z_850', 't_200', 't_500', 't_850', 'u_200',\n",
       "       'u_500', 'u_850', 'v_200', 'v_500', 'v_850', 'lsm', 'orography',\n",
       "       'lat2d'], dtype='<U9')\n",
       "Coordinates:\n",
       "  * level        (level) int64 200 500 850 200 500 850 200 ... 200 500 850 1 1 1\n",
       "    level_names  (level) <U9 'z_200' 'z_500' 'z_850' ... 'orography' 'lat2d'"
      ]
     },
     "execution_count": 36,
     "metadata": {},
     "output_type": "execute_result"
    }
   ],
   "source": [
    "dg_test.data.level_names"
   ]
  },
  {
   "cell_type": "code",
   "execution_count": 20,
   "metadata": {},
   "outputs": [],
   "source": [
    "model = keras.models.load_model(\n",
    "    '/home/rasp/data/myWeatherBench/predictions/saved_models/37-resnet_pred_all_lev.h5',\n",
    "    custom_objects={'PeriodicConv2D': PeriodicConv2D}\n",
    ")"
   ]
  },
  {
   "cell_type": "code",
   "execution_count": 22,
   "metadata": {},
   "outputs": [],
   "source": [
    "preds = create_predictions(model, dg_test)"
   ]
  },
  {
   "cell_type": "code",
   "execution_count": 23,
   "metadata": {},
   "outputs": [
    {
     "data": {
      "text/html": [
       "<pre>&lt;xarray.Dataset&gt;\n",
       "Dimensions:  (lat: 32, level: 3, lon: 64, time: 17448)\n",
       "Coordinates:\n",
       "  * time     (time) datetime64[ns] 2017-01-04 ... 2018-12-31T23:00:00\n",
       "  * lat      (lat) float64 -87.19 -81.56 -75.94 -70.31 ... 75.94 81.56 87.19\n",
       "  * lon      (lon) float64 0.0 5.625 11.25 16.88 ... 337.5 343.1 348.8 354.4\n",
       "  * level    (level) int64 200 500 850\n",
       "Data variables:\n",
       "    t        (time, lat, lon, level) float64 227.5 240.5 257.8 ... 230.0 249.0\n",
       "    u        (time, lat, lon, level) float64 -0.2959 0.322 ... -0.997 2.119\n",
       "    z        (time, lat, lon, level) float64 1.106e+05 5.09e+04 ... 1.18e+04\n",
       "    v        (time, lat, lon, level) float64 -0.912 -3.718 ... -11.81 -9.479</pre>"
      ],
      "text/plain": [
       "<xarray.Dataset>\n",
       "Dimensions:  (lat: 32, level: 3, lon: 64, time: 17448)\n",
       "Coordinates:\n",
       "  * time     (time) datetime64[ns] 2017-01-04 ... 2018-12-31T23:00:00\n",
       "  * lat      (lat) float64 -87.19 -81.56 -75.94 -70.31 ... 75.94 81.56 87.19\n",
       "  * lon      (lon) float64 0.0 5.625 11.25 16.88 ... 337.5 343.1 348.8 354.4\n",
       "  * level    (level) int64 200 500 850\n",
       "Data variables:\n",
       "    t        (time, lat, lon, level) float64 227.5 240.5 257.8 ... 230.0 249.0\n",
       "    u        (time, lat, lon, level) float64 -0.2959 0.322 ... -0.997 2.119\n",
       "    z        (time, lat, lon, level) float64 1.106e+05 5.09e+04 ... 1.18e+04\n",
       "    v        (time, lat, lon, level) float64 -0.912 -3.718 ... -11.81 -9.479"
      ]
     },
     "execution_count": 23,
     "metadata": {},
     "output_type": "execute_result"
    }
   ],
   "source": [
    "preds"
   ]
  },
  {
   "cell_type": "code",
   "execution_count": 24,
   "metadata": {},
   "outputs": [],
   "source": [
    "z500_valid = load_test_data(f'{datadir}geopotential_500', 'z')\n",
    "t850_valid = load_test_data(f'{datadir}temperature_850', 't')"
   ]
  },
  {
   "cell_type": "code",
   "execution_count": 25,
   "metadata": {},
   "outputs": [
    {
     "data": {
      "text/plain": [
       "<matplotlib.collections.QuadMesh at 0x7f5a38480c50>"
      ]
     },
     "execution_count": 25,
     "metadata": {},
     "output_type": "execute_result"
    },
    {
     "data": {
      "image/png": "[encoded data removed]",
      "text/plain": [
       "<Figure size 432x288 with 2 Axes>"
      ]
     },
     "metadata": {
      "needs_background": "light"
     },
     "output_type": "display_data"
    }
   ],
   "source": [
    "preds.z.sel(time='2018-12-31T23:00:00', level=500).plot()"
   ]
  },
  {
   "cell_type": "code",
   "execution_count": 27,
   "metadata": {},
   "outputs": [
    {
     "data": {
      "text/plain": [
       "<matplotlib.collections.QuadMesh at 0x7f5a103a5350>"
      ]
     },
     "execution_count": 27,
     "metadata": {},
     "output_type": "execute_result"
    },
    {
     "data": {
      "image/png": "[encoded data removed]",
      "text/plain": [
       "<Figure size 432x288 with 2 Axes>"
      ]
     },
     "metadata": {
      "needs_background": "light"
     },
     "output_type": "display_data"
    }
   ],
   "source": [
    "z500_valid.sel(time='2018-12-31T23:00:00').plot()"
   ]
  },
  {
   "cell_type": "code",
   "execution_count": 29,
   "metadata": {},
   "outputs": [
    {
     "data": {
      "text/html": [
       "<pre>&lt;xarray.DataArray &#x27;z_rmse&#x27; ()&gt;\n",
       "array(426.35217427)\n",
       "Coordinates:\n",
       "    level    int64 500</pre>"
      ],
      "text/plain": [
       "<xarray.DataArray 'z_rmse' ()>\n",
       "array(426.35217427)\n",
       "Coordinates:\n",
       "    level    int64 500"
      ]
     },
     "execution_count": 29,
     "metadata": {},
     "output_type": "execute_result"
    }
   ],
   "source": [
    "compute_weighted_rmse(preds.z.sel(level=500), z500_valid).load()"
   ]
  },
  {
   "cell_type": "code",
   "execution_count": 30,
   "metadata": {},
   "outputs": [
    {
     "data": {
      "text/html": [
       "<pre>&lt;xarray.DataArray &#x27;t_rmse&#x27; ()&gt;\n",
       "array(2.41918565)\n",
       "Coordinates:\n",
       "    level    int64 850</pre>"
      ],
      "text/plain": [
       "<xarray.DataArray 't_rmse' ()>\n",
       "array(2.41918565)\n",
       "Coordinates:\n",
       "    level    int64 850"
      ]
     },
     "execution_count": 30,
     "metadata": {},
     "output_type": "execute_result"
    }
   ],
   "source": [
    "compute_weighted_rmse(preds.t.sel(level=850), t850_valid).load()"
   ]
  },
  {
   "cell_type": "code",
   "execution_count": null,
   "metadata": {},
   "outputs": [],
   "source": []
  }
 ],
 "metadata": {
  "kernelspec": {
   "display_name": "Python 3",
   "language": "python",
   "name": "python3"
  },
  "language_info": {
   "codemirror_mode": {
    "name": "ipython",
    "version": 3
   },
   "file_extension": ".py",
   "mimetype": "text/x-python",
   "name": "python",
   "nbconvert_exporter": "python",
   "pygments_lexer": "ipython3",
   "version": "3.7.4"
  }
 },
 "nbformat": 4,
 "nbformat_minor": 4
}
