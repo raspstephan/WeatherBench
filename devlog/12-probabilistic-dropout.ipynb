{
 "cells": [
  {
   "cell_type": "markdown",
   "metadata": {},
   "source": [
    "# Create an ensemble forecast using dropout\n",
    "\n",
    "The atmosphere is an inherently chaotic system. This means that even tiny errors in the initial conditions can cause large errors in the forecast even if a perfect model existed. Check out the famous [butterfly effect](https://en.wikipedia.org/wiki/Lorenz_system). But in addition to this, we have unknown model uncertainties in weather models.\n",
    "\n",
    "What this means in essence is that we really need a large number of possible forecasts, what is called an ensemble, for a given weather situation to create a probabilistic forecast. This then allows us to say that there is a 30% chance of rain. For physical weather forecasts, these ensembles are created by using slightly different initial conditions and model physics.\n",
    "\n",
    "What I am trying to do in the WeatherBench project is to create a purely data-driven forecast. For this we created a benchmark dataset. Check out the [paper](http://arxiv.org/abs/2002.00469). So far, in the benchmark and in my experiments I have only trained deterministic models, that is models that produce a single, \"best\" forecast. But as mentioned above, ideally we would produce a range of possible forecasts. The big question is how to do this with deep learning.\n",
    "\n",
    "I see several possible methods:\n",
    "\n",
    "1. Train a bunch of different models (e.g. different random seed or different hyperparameters)\n",
    "1. Use different initial conditions.\n",
    "1. If the model uses dropout, use dropout also during inference to introduce randomness.\n",
    "1. Use a parametric approach: Forecast a PDF, e.g. a Gaussian, by predicting the paramters, e.g. mean and standard deviation. See some work I've done on this: https://doi.org/10.1175/MWR-D-18-0187.1\n",
    "1. Use a GAN.\n",
    "\n",
    "I have no idea which method works best, so we need to try it out.\n",
    "\n",
    "I thought an easy place to start is to test the test-time dropout method. You task in this notebook is to implement this based on a model I already trained. BTW, this paper proposed the method: https://arxiv.org/pdf/1506.02142.pdf\n",
    " \n",
    "So let's get started."
   ]
  },
  {
   "cell_type": "markdown",
   "metadata": {},
   "source": [
    "## Set up\n",
    "\n",
    "This is my development branch of WeatherBench, which means things are not as nicely documented. Sorry about that. Regardless, let's import the modules we need. If you don't know what a function or class does, check out the definition in the `src` directory. Also check the requirements in the `environment.yml` file."
   ]
  },
  {
   "cell_type": "code",
   "execution_count": null,
   "metadata": {},
   "outputs": [],
   "source": [
    "#notes:\n",
    "#xarray: https://rabernat.github.io/research_computing_2018/xarray.html\n",
    "#to-do: make both predictions (deterministic and probabilistic) working with correct version of tensorflow. error: eager executionn\n",
    "#to-do: make rank histogram instead of normal histogram (pip install rank-histogram)"
   ]
  },
  {
   "cell_type": "code",
   "execution_count": 1,
   "metadata": {},
   "outputs": [],
   "source": [
    "%load_ext autoreload\n",
    "%autoreload 2"
   ]
  },
  {
   "cell_type": "code",
   "execution_count": 2,
   "metadata": {
    "scrolled": true
   },
   "outputs": [
    {
     "name": "stderr",
     "output_type": "stream",
     "text": [
      "/anaconda3/lib/python3.7/site-packages/dask/config.py:168: YAMLLoadWarning: calling yaml.load() without Loader=... is deprecated, as the default Loader is unsafe. Please read https://msg.pyyaml.org/load for full details.\n",
      "  data = yaml.load(f.read()) or {}\n",
      "/anaconda3/lib/python3.7/site-packages/distributed/config.py:20: YAMLLoadWarning: calling yaml.load() without Loader=... is deprecated, as the default Loader is unsafe. Please read https://msg.pyyaml.org/load for full details.\n",
      "  defaults = yaml.load(f)\n",
      "/anaconda3/lib/python3.7/site-packages/tensorflow/python/framework/dtypes.py:516: FutureWarning: Passing (type, 1) or '1type' as a synonym of type is deprecated; in a future version of numpy, it will be understood as (type, (1,)) / '(1,)type'.\n",
      "  _np_qint8 = np.dtype([(\"qint8\", np.int8, 1)])\n",
      "/anaconda3/lib/python3.7/site-packages/tensorflow/python/framework/dtypes.py:517: FutureWarning: Passing (type, 1) or '1type' as a synonym of type is deprecated; in a future version of numpy, it will be understood as (type, (1,)) / '(1,)type'.\n",
      "  _np_quint8 = np.dtype([(\"quint8\", np.uint8, 1)])\n",
      "/anaconda3/lib/python3.7/site-packages/tensorflow/python/framework/dtypes.py:518: FutureWarning: Passing (type, 1) or '1type' as a synonym of type is deprecated; in a future version of numpy, it will be understood as (type, (1,)) / '(1,)type'.\n",
      "  _np_qint16 = np.dtype([(\"qint16\", np.int16, 1)])\n",
      "/anaconda3/lib/python3.7/site-packages/tensorflow/python/framework/dtypes.py:519: FutureWarning: Passing (type, 1) or '1type' as a synonym of type is deprecated; in a future version of numpy, it will be understood as (type, (1,)) / '(1,)type'.\n",
      "  _np_quint16 = np.dtype([(\"quint16\", np.uint16, 1)])\n",
      "/anaconda3/lib/python3.7/site-packages/tensorflow/python/framework/dtypes.py:520: FutureWarning: Passing (type, 1) or '1type' as a synonym of type is deprecated; in a future version of numpy, it will be understood as (type, (1,)) / '(1,)type'.\n",
      "  _np_qint32 = np.dtype([(\"qint32\", np.int32, 1)])\n",
      "/anaconda3/lib/python3.7/site-packages/tensorflow/python/framework/dtypes.py:525: FutureWarning: Passing (type, 1) or '1type' as a synonym of type is deprecated; in a future version of numpy, it will be understood as (type, (1,)) / '(1,)type'.\n",
      "  np_resource = np.dtype([(\"resource\", np.ubyte, 1)])\n",
      "/anaconda3/lib/python3.7/site-packages/tensorboard/compat/tensorflow_stub/dtypes.py:541: FutureWarning: Passing (type, 1) or '1type' as a synonym of type is deprecated; in a future version of numpy, it will be understood as (type, (1,)) / '(1,)type'.\n",
      "  _np_qint8 = np.dtype([(\"qint8\", np.int8, 1)])\n",
      "/anaconda3/lib/python3.7/site-packages/tensorboard/compat/tensorflow_stub/dtypes.py:542: FutureWarning: Passing (type, 1) or '1type' as a synonym of type is deprecated; in a future version of numpy, it will be understood as (type, (1,)) / '(1,)type'.\n",
      "  _np_quint8 = np.dtype([(\"quint8\", np.uint8, 1)])\n",
      "/anaconda3/lib/python3.7/site-packages/tensorboard/compat/tensorflow_stub/dtypes.py:543: FutureWarning: Passing (type, 1) or '1type' as a synonym of type is deprecated; in a future version of numpy, it will be understood as (type, (1,)) / '(1,)type'.\n",
      "  _np_qint16 = np.dtype([(\"qint16\", np.int16, 1)])\n",
      "/anaconda3/lib/python3.7/site-packages/tensorboard/compat/tensorflow_stub/dtypes.py:544: FutureWarning: Passing (type, 1) or '1type' as a synonym of type is deprecated; in a future version of numpy, it will be understood as (type, (1,)) / '(1,)type'.\n",
      "  _np_quint16 = np.dtype([(\"quint16\", np.uint16, 1)])\n",
      "/anaconda3/lib/python3.7/site-packages/tensorboard/compat/tensorflow_stub/dtypes.py:545: FutureWarning: Passing (type, 1) or '1type' as a synonym of type is deprecated; in a future version of numpy, it will be understood as (type, (1,)) / '(1,)type'.\n",
      "  _np_qint32 = np.dtype([(\"qint32\", np.int32, 1)])\n",
      "/anaconda3/lib/python3.7/site-packages/tensorboard/compat/tensorflow_stub/dtypes.py:550: FutureWarning: Passing (type, 1) or '1type' as a synonym of type is deprecated; in a future version of numpy, it will be understood as (type, (1,)) / '(1,)type'.\n",
      "  np_resource = np.dtype([(\"resource\", np.ubyte, 1)])\n"
     ]
    },
    {
     "name": "stdout",
     "output_type": "stream",
     "text": [
      "WARNING:tensorflow:From /Users/sagar/Library/Mobile Documents/com~apple~CloudDocs/studies/WeatherBench/Testing_WeatherBench/devlog/src/networks.py:3: The name tf.keras.layers.CuDNNGRU is deprecated. Please use tf.compat.v1.keras.layers.CuDNNGRU instead.\n",
      "\n",
      "WARNING:tensorflow:From /Users/sagar/Library/Mobile Documents/com~apple~CloudDocs/studies/WeatherBench/Testing_WeatherBench/devlog/src/networks.py:3: The name tf.keras.layers.CuDNNLSTM is deprecated. Please use tf.compat.v1.keras.layers.CuDNNLSTM instead.\n",
      "\n"
     ]
    }
   ],
   "source": [
    "from src.utils import *\n",
    "from src.score import *\n",
    "from src.data_generator import *\n",
    "from src.networks import *\n",
    "import matplotlib.pyplot as plt"
   ]
  },
  {
   "cell_type": "code",
   "execution_count": 3,
   "metadata": {},
   "outputs": [
    {
     "data": {
      "text/plain": [
       "'1.14.0'"
      ]
     },
     "execution_count": 3,
     "metadata": {},
     "output_type": "execute_result"
    }
   ],
   "source": [
    "tf.__version__"
   ]
  },
  {
   "cell_type": "code",
   "execution_count": null,
   "metadata": {},
   "outputs": [],
   "source": [
    "# You only need this if you are using a GPU\n",
    "#os.environ[\"CUDA_VISIBLE_DEVICES\"]=str(0)\n",
    "#limit_mem()"
   ]
  },
  {
   "cell_type": "markdown",
   "metadata": {},
   "source": [
    "## Load the data\n",
    "\n",
    "We are using the benchmark dataset. It comes in three different resolutions, for now I am just using the lowest resolution: 5.625 degrees. Download instructions can be found here: https://github.com/pangeo-data/WeatherBench. The entire dataset for this resolution takes up around 200GB. Since this is quite a lot I uploaded a single year of the data you need here: http://doi.org/10.5281/zenodo.3700685. In `test.zip`."
   ]
  },
  {
   "cell_type": "code",
   "execution_count": 4,
   "metadata": {},
   "outputs": [],
   "source": [
    "datadir = '/Users/sagar/Library/Mobile\\ Documents/com~apple~CloudDocs/studies/WeatherBench/Testing_WeatherBench/test/'# Change this to where you downloaded the data"
   ]
  },
  {
   "cell_type": "code",
   "execution_count": 5,
   "metadata": {},
   "outputs": [
    {
     "name": "stdout",
     "output_type": "stream",
     "text": [
      "13-mean.nc                     \u001b[34mgeopotential\u001b[m\u001b[m\r\n",
      "13-resnet_bn_dr_0.1.h5         \u001b[34mtemperature\u001b[m\u001b[m\r\n",
      "13-resnet_bn_dr_0.1_weights.h5 \u001b[34mu_component_of_wind\u001b[m\u001b[m\r\n",
      "13-std.nc                      \u001b[34mv_component_of_wind\u001b[m\u001b[m\r\n",
      "\u001b[34mconstants\u001b[m\u001b[m\r\n"
     ]
    }
   ],
   "source": [
    "!ls $datadir"
   ]
  },
  {
   "cell_type": "markdown",
   "metadata": {},
   "source": [
    "These are all the parameters for the model and data generator that I use for the `train_nn.py` script."
   ]
  },
  {
   "cell_type": "code",
   "execution_count": 6,
   "metadata": {},
   "outputs": [],
   "source": [
    "exp_id = '13-resnet_bn_dr_0.1'\n",
    "var_dict = {'geopotential': ('z', [200, 500, 850]), 'temperature': ('t', [200, 500, 850]), \n",
    "            'u_component_of_wind': ('u', [200, 500, 850]), 'v_component_of_wind': ('v', [200, 500, 850]), \n",
    "            'constants': ['lsm','orography','lat2d']}  \n",
    "#our input data has 'levels'. is that geopotential height?  \n",
    "#why just 3 constants, not 5\n",
    "output_vars = ['z_500', 't_850']\n",
    "filters = [128, 128, 128, 128, 128, 128, 128, 128, 2]\n",
    "kernels = [7, 3, 3, 3, 3, 3, 3, 3, 3]\n",
    "lead_time = 72 #read. just above an hour. we are gonna subsample data by hour?\n",
    "lr = 0.5e-4\n",
    "early_stopping_patience = 10\n",
    "reduce_lr_patience = 5\n",
    "data_subsample = 2\n",
    "norm_subsample = 30000\n",
    "bn_position = 'post'\n",
    "use_bias = 1\n",
    "dropout = 0.1  # This is the important one\n",
    "\n",
    "batch_size = 32\n",
    "nt_in = 1\n",
    "l2 = 0\n",
    "skip = True"
   ]
  },
  {
   "cell_type": "markdown",
   "metadata": {},
   "source": [
    "The raw data is stored in the NetCDF format. I am using the awesome [xarray](http://xarray.pydata.org/en/stable/) package to read and manipulate the data."
   ]
  },
  {
   "cell_type": "code",
   "execution_count": 7,
   "metadata": {},
   "outputs": [],
   "source": [
    "#ds = xr.merge([xr.open_mfdataset('../test/{var}/*.nc', combine='by_coords') for var in var_dict.keys()]) \n",
    "df1=xr.open_mfdataset('../test/geopotential/*.nc', combine='by_coords') \n",
    "df2=xr.open_mfdataset('../test/temperature/*.nc', combine='by_coords') \n",
    "df3=xr.open_mfdataset('../test/u_component_of_wind/*.nc', combine='by_coords') \n",
    "df4=xr.open_mfdataset('../test/v_component_of_wind/*.nc', combine='by_coords')  \n",
    "df5=xr.open_mfdataset('../test/constants/*.nc', combine='by_coords')  \n",
    "ds=xr.merge([df1,df2,df3,df4,df5])"
   ]
  },
  {
   "cell_type": "markdown",
   "metadata": {},
   "source": [
    "Importantly we also need to load the mean and standard deviations we used to normalize the data during training."
   ]
  },
  {
   "cell_type": "code",
   "execution_count": 8,
   "metadata": {},
   "outputs": [],
   "source": [
    "mean = xr.open_dataarray('../test/13-mean.nc')\n",
    "std = xr.open_dataarray('../test/13-std.nc')"
   ]
  },
  {
   "cell_type": "code",
   "execution_count": 9,
   "metadata": {},
   "outputs": [
    {
     "data": {
      "text/html": [
       "<pre>&lt;xarray.DataArray &#x27;z&#x27; (level: 15)&gt;\n",
       "array([ 1.152032e+05,  5.407185e+04,  1.374600e+04,  2.177746e+02,\n",
       "        2.526253e+02,  2.743906e+02,  1.437102e+01,  6.775228e+00,\n",
       "        1.410097e+00, -1.578050e-01, -4.013337e-02,  2.130935e-01,\n",
       "        3.370783e-01,  3.794976e+02,  0.000000e+00])\n",
       "Coordinates:\n",
       "  * level        (level) int64 200 500 850 200 500 850 200 ... 200 500 850 1 1 1\n",
       "    level_names  (level) object ...</pre>"
      ],
      "text/plain": [
       "<xarray.DataArray 'z' (level: 15)>\n",
       "array([ 1.152032e+05,  5.407185e+04,  1.374600e+04,  2.177746e+02,\n",
       "        2.526253e+02,  2.743906e+02,  1.437102e+01,  6.775228e+00,\n",
       "        1.410097e+00, -1.578050e-01, -4.013337e-02,  2.130935e-01,\n",
       "        3.370783e-01,  3.794976e+02,  0.000000e+00])\n",
       "Coordinates:\n",
       "  * level        (level) int64 200 500 850 200 500 850 200 ... 200 500 850 1 1 1\n",
       "    level_names  (level) object ..."
      ]
     },
     "execution_count": 9,
     "metadata": {},
     "output_type": "execute_result"
    }
   ],
   "source": [
    "mean #for just our subsampled data. 15 levels ('the constants are at level=1)':z200,z500,z850,t200 and so on.\n",
    "#ds #for whole data.\n",
    "#z200=1.15E5 >z500=5.4E4 >z850=1.37E4. decreases with height. Temperature increases from 217K to 274K (1degree celcius)? \n",
    "# * means dimension coordinates, i.e., x y axis. usually should be 2 only?"
   ]
  },
  {
   "cell_type": "code",
   "execution_count": 11,
   "metadata": {
    "scrolled": true
   },
   "outputs": [
    {
     "name": "stdout",
     "output_type": "stream",
     "text": [
      "DG start 11:11:17.807280\n",
      "DG normalize 11:11:17.834210\n",
      "DG load 11:11:17.845901\n",
      "Loading data into RAM\n",
      "DG done 11:11:45.863664\n"
     ]
    }
   ],
   "source": [
    "dg_test = DataGenerator(\n",
    "    ds, var_dict, lead_time, batch_size=batch_size, mean=mean, std=std,\n",
    "    shuffle=False, output_vars=output_vars\n",
    ")"
   ]
  },
  {
   "cell_type": "code",
   "execution_count": 12,
   "metadata": {},
   "outputs": [
    {
     "data": {
      "text/plain": [
       "((32, 32, 64, 15), (32, 32, 64, 2))"
      ]
     },
     "execution_count": 12,
     "metadata": {},
     "output_type": "execute_result"
    }
   ],
   "source": [
    "# You can index into the data generator to obain a feature/target pair\n",
    "# [batch, x, y, channel]\n",
    "X, y = dg_test[0] #271 full channels. 16 in last batch\n",
    "X.shape, y.shape"
   ]
  },
  {
   "cell_type": "code",
   "execution_count": 13,
   "metadata": {},
   "outputs": [
    {
     "data": {
      "text/plain": [
       "<matplotlib.image.AxesImage at 0x1c37e11048>"
      ]
     },
     "execution_count": 13,
     "metadata": {},
     "output_type": "execute_result"
    },
    {
     "data": {
      "image/png": "[encoded data removed]",
      "text/plain": [
       "<Figure size 576x288 with 1 Axes>"
      ]
     },
     "metadata": {
      "needs_background": "light"
     },
     "output_type": "display_data"
    }
   ],
   "source": [
    "plt.matshow(y[0, :, :, 1]) #y[...,0] is z500 and y[...,1] is t850. normalized"
   ]
  },
  {
   "cell_type": "markdown",
   "metadata": {},
   "source": [
    "# Load the model\n",
    "\n",
    "Now let's load the pretrained model. Check the build resnet option ."
   ]
  },
  {
   "cell_type": "code",
   "execution_count": 14,
   "metadata": {},
   "outputs": [
    {
     "name": "stdout",
     "output_type": "stream",
     "text": [
      "WARNING:tensorflow:From /anaconda3/lib/python3.7/site-packages/tensorflow/python/ops/init_ops.py:1251: calling VarianceScaling.__init__ (from tensorflow.python.ops.init_ops) with dtype is deprecated and will be removed in a future version.\n",
      "Instructions for updating:\n",
      "Call initializer instance with the dtype argument instead of passing it to the constructor\n"
     ]
    }
   ],
   "source": [
    "model = build_resnet(\n",
    "    filters, kernels, input_shape=(\n",
    "        len(dg_test.data.lat), len(dg_test.data.lon), len(dg_test.data.level) * nt_in\n",
    "    ),\n",
    "    bn_position=bn_position, use_bias=use_bias, l2=l2, skip=skip,\n",
    "    dropout=dropout\n",
    ")"
   ]
  },
  {
   "cell_type": "code",
   "execution_count": 15,
   "metadata": {
    "jupyter": {
     "outputs_hidden": true
    }
   },
   "outputs": [
    {
     "name": "stdout",
     "output_type": "stream",
     "text": [
      "Model: \"model\"\n",
      "__________________________________________________________________________________________________\n",
      "Layer (type)                    Output Shape         Param #     Connected to                     \n",
      "==================================================================================================\n",
      "input_1 (InputLayer)            [(None, 32, 64, 15)] 0                                            \n",
      "__________________________________________________________________________________________________\n",
      "periodic_conv2d (PeriodicConv2D (None, 32, 64, 128)  94208       input_1[0][0]                    \n",
      "__________________________________________________________________________________________________\n",
      "activation (Activation)         (None, 32, 64, 128)  0           periodic_conv2d[0][0]            \n",
      "__________________________________________________________________________________________________\n",
      "batch_normalization (BatchNorma (None, 32, 64, 128)  512         activation[0][0]                 \n",
      "__________________________________________________________________________________________________\n",
      "dropout (Dropout)               (None, 32, 64, 128)  0           batch_normalization[0][0]        \n",
      "__________________________________________________________________________________________________\n",
      "periodic_conv2d_1 (PeriodicConv (None, 32, 64, 128)  147584      dropout[0][0]                    \n",
      "__________________________________________________________________________________________________\n",
      "activation_1 (Activation)       (None, 32, 64, 128)  0           periodic_conv2d_1[0][0]          \n",
      "__________________________________________________________________________________________________\n",
      "batch_normalization_1 (BatchNor (None, 32, 64, 128)  512         activation_1[0][0]               \n",
      "__________________________________________________________________________________________________\n",
      "dropout_1 (Dropout)             (None, 32, 64, 128)  0           batch_normalization_1[0][0]      \n",
      "__________________________________________________________________________________________________\n",
      "periodic_conv2d_2 (PeriodicConv (None, 32, 64, 128)  147584      dropout_1[0][0]                  \n",
      "__________________________________________________________________________________________________\n",
      "activation_2 (Activation)       (None, 32, 64, 128)  0           periodic_conv2d_2[0][0]          \n",
      "__________________________________________________________________________________________________\n",
      "batch_normalization_2 (BatchNor (None, 32, 64, 128)  512         activation_2[0][0]               \n",
      "__________________________________________________________________________________________________\n",
      "dropout_2 (Dropout)             (None, 32, 64, 128)  0           batch_normalization_2[0][0]      \n",
      "__________________________________________________________________________________________________\n",
      "add (Add)                       (None, 32, 64, 128)  0           dropout[0][0]                    \n",
      "                                                                 dropout_2[0][0]                  \n",
      "__________________________________________________________________________________________________\n",
      "periodic_conv2d_3 (PeriodicConv (None, 32, 64, 128)  147584      add[0][0]                        \n",
      "__________________________________________________________________________________________________\n",
      "activation_3 (Activation)       (None, 32, 64, 128)  0           periodic_conv2d_3[0][0]          \n",
      "__________________________________________________________________________________________________\n",
      "batch_normalization_3 (BatchNor (None, 32, 64, 128)  512         activation_3[0][0]               \n",
      "__________________________________________________________________________________________________\n",
      "dropout_3 (Dropout)             (None, 32, 64, 128)  0           batch_normalization_3[0][0]      \n",
      "__________________________________________________________________________________________________\n",
      "periodic_conv2d_4 (PeriodicConv (None, 32, 64, 128)  147584      dropout_3[0][0]                  \n",
      "__________________________________________________________________________________________________\n",
      "activation_4 (Activation)       (None, 32, 64, 128)  0           periodic_conv2d_4[0][0]          \n",
      "__________________________________________________________________________________________________\n",
      "batch_normalization_4 (BatchNor (None, 32, 64, 128)  512         activation_4[0][0]               \n",
      "__________________________________________________________________________________________________\n",
      "dropout_4 (Dropout)             (None, 32, 64, 128)  0           batch_normalization_4[0][0]      \n",
      "__________________________________________________________________________________________________\n",
      "add_1 (Add)                     (None, 32, 64, 128)  0           add[0][0]                        \n",
      "                                                                 dropout_4[0][0]                  \n",
      "__________________________________________________________________________________________________\n",
      "periodic_conv2d_5 (PeriodicConv (None, 32, 64, 128)  147584      add_1[0][0]                      \n",
      "__________________________________________________________________________________________________\n",
      "activation_5 (Activation)       (None, 32, 64, 128)  0           periodic_conv2d_5[0][0]          \n",
      "__________________________________________________________________________________________________\n",
      "batch_normalization_5 (BatchNor (None, 32, 64, 128)  512         activation_5[0][0]               \n",
      "__________________________________________________________________________________________________\n",
      "dropout_5 (Dropout)             (None, 32, 64, 128)  0           batch_normalization_5[0][0]      \n",
      "__________________________________________________________________________________________________\n",
      "periodic_conv2d_6 (PeriodicConv (None, 32, 64, 128)  147584      dropout_5[0][0]                  \n",
      "__________________________________________________________________________________________________\n",
      "activation_6 (Activation)       (None, 32, 64, 128)  0           periodic_conv2d_6[0][0]          \n",
      "__________________________________________________________________________________________________\n",
      "batch_normalization_6 (BatchNor (None, 32, 64, 128)  512         activation_6[0][0]               \n",
      "__________________________________________________________________________________________________\n",
      "dropout_6 (Dropout)             (None, 32, 64, 128)  0           batch_normalization_6[0][0]      \n",
      "__________________________________________________________________________________________________\n",
      "add_2 (Add)                     (None, 32, 64, 128)  0           add_1[0][0]                      \n",
      "                                                                 dropout_6[0][0]                  \n",
      "__________________________________________________________________________________________________\n",
      "periodic_conv2d_7 (PeriodicConv (None, 32, 64, 128)  147584      add_2[0][0]                      \n",
      "__________________________________________________________________________________________________\n",
      "activation_7 (Activation)       (None, 32, 64, 128)  0           periodic_conv2d_7[0][0]          \n",
      "__________________________________________________________________________________________________\n",
      "batch_normalization_7 (BatchNor (None, 32, 64, 128)  512         activation_7[0][0]               \n",
      "__________________________________________________________________________________________________\n",
      "dropout_7 (Dropout)             (None, 32, 64, 128)  0           batch_normalization_7[0][0]      \n",
      "__________________________________________________________________________________________________\n",
      "periodic_conv2d_8 (PeriodicConv (None, 32, 64, 128)  147584      dropout_7[0][0]                  \n",
      "__________________________________________________________________________________________________\n",
      "activation_8 (Activation)       (None, 32, 64, 128)  0           periodic_conv2d_8[0][0]          \n",
      "__________________________________________________________________________________________________\n",
      "batch_normalization_8 (BatchNor (None, 32, 64, 128)  512         activation_8[0][0]               \n",
      "__________________________________________________________________________________________________\n",
      "dropout_8 (Dropout)             (None, 32, 64, 128)  0           batch_normalization_8[0][0]      \n",
      "__________________________________________________________________________________________________\n",
      "add_3 (Add)                     (None, 32, 64, 128)  0           add_2[0][0]                      \n",
      "                                                                 dropout_8[0][0]                  \n",
      "__________________________________________________________________________________________________\n",
      "periodic_conv2d_9 (PeriodicConv (None, 32, 64, 128)  147584      add_3[0][0]                      \n",
      "__________________________________________________________________________________________________\n",
      "activation_9 (Activation)       (None, 32, 64, 128)  0           periodic_conv2d_9[0][0]          \n",
      "__________________________________________________________________________________________________\n",
      "batch_normalization_9 (BatchNor (None, 32, 64, 128)  512         activation_9[0][0]               \n",
      "__________________________________________________________________________________________________\n",
      "dropout_9 (Dropout)             (None, 32, 64, 128)  0           batch_normalization_9[0][0]      \n",
      "__________________________________________________________________________________________________\n",
      "periodic_conv2d_10 (PeriodicCon (None, 32, 64, 128)  147584      dropout_9[0][0]                  \n",
      "__________________________________________________________________________________________________\n",
      "activation_10 (Activation)      (None, 32, 64, 128)  0           periodic_conv2d_10[0][0]         \n",
      "__________________________________________________________________________________________________\n",
      "batch_normalization_10 (BatchNo (None, 32, 64, 128)  512         activation_10[0][0]              \n",
      "__________________________________________________________________________________________________\n",
      "dropout_10 (Dropout)            (None, 32, 64, 128)  0           batch_normalization_10[0][0]     \n",
      "__________________________________________________________________________________________________\n",
      "add_4 (Add)                     (None, 32, 64, 128)  0           add_3[0][0]                      \n",
      "                                                                 dropout_10[0][0]                 \n",
      "__________________________________________________________________________________________________\n",
      "periodic_conv2d_11 (PeriodicCon (None, 32, 64, 128)  147584      add_4[0][0]                      \n",
      "__________________________________________________________________________________________________\n",
      "activation_11 (Activation)      (None, 32, 64, 128)  0           periodic_conv2d_11[0][0]         \n",
      "__________________________________________________________________________________________________\n",
      "batch_normalization_11 (BatchNo (None, 32, 64, 128)  512         activation_11[0][0]              \n",
      "__________________________________________________________________________________________________\n",
      "dropout_11 (Dropout)            (None, 32, 64, 128)  0           batch_normalization_11[0][0]     \n",
      "__________________________________________________________________________________________________\n",
      "periodic_conv2d_12 (PeriodicCon (None, 32, 64, 128)  147584      dropout_11[0][0]                 \n",
      "__________________________________________________________________________________________________\n",
      "activation_12 (Activation)      (None, 32, 64, 128)  0           periodic_conv2d_12[0][0]         \n",
      "__________________________________________________________________________________________________\n",
      "batch_normalization_12 (BatchNo (None, 32, 64, 128)  512         activation_12[0][0]              \n",
      "__________________________________________________________________________________________________\n",
      "dropout_12 (Dropout)            (None, 32, 64, 128)  0           batch_normalization_12[0][0]     \n",
      "__________________________________________________________________________________________________\n",
      "add_5 (Add)                     (None, 32, 64, 128)  0           add_4[0][0]                      \n",
      "                                                                 dropout_12[0][0]                 \n",
      "__________________________________________________________________________________________________\n",
      "periodic_conv2d_13 (PeriodicCon (None, 32, 64, 128)  147584      add_5[0][0]                      \n",
      "__________________________________________________________________________________________________\n",
      "activation_13 (Activation)      (None, 32, 64, 128)  0           periodic_conv2d_13[0][0]         \n",
      "__________________________________________________________________________________________________\n",
      "batch_normalization_13 (BatchNo (None, 32, 64, 128)  512         activation_13[0][0]              \n",
      "__________________________________________________________________________________________________\n",
      "dropout_13 (Dropout)            (None, 32, 64, 128)  0           batch_normalization_13[0][0]     \n",
      "__________________________________________________________________________________________________\n",
      "periodic_conv2d_14 (PeriodicCon (None, 32, 64, 128)  147584      dropout_13[0][0]                 \n",
      "__________________________________________________________________________________________________\n",
      "activation_14 (Activation)      (None, 32, 64, 128)  0           periodic_conv2d_14[0][0]         \n",
      "__________________________________________________________________________________________________\n",
      "batch_normalization_14 (BatchNo (None, 32, 64, 128)  512         activation_14[0][0]              \n",
      "__________________________________________________________________________________________________\n",
      "dropout_14 (Dropout)            (None, 32, 64, 128)  0           batch_normalization_14[0][0]     \n",
      "__________________________________________________________________________________________________\n",
      "add_6 (Add)                     (None, 32, 64, 128)  0           add_5[0][0]                      \n",
      "                                                                 dropout_14[0][0]                 \n",
      "__________________________________________________________________________________________________\n",
      "periodic_conv2d_15 (PeriodicCon (None, 32, 64, 2)    2306        add_6[0][0]                      \n",
      "==================================================================================================\n",
      "Total params: 2,170,370\n",
      "Trainable params: 2,166,530\n",
      "Non-trainable params: 3,840\n",
      "__________________________________________________________________________________________________\n"
     ]
    }
   ],
   "source": [
    "model.compile('adam', 'mse')\n",
    "model.summary()"
   ]
  },
  {
   "cell_type": "code",
   "execution_count": 16,
   "metadata": {},
   "outputs": [],
   "source": [
    "model.load_weights('../test/13-resnet_bn_dr_0.1_weights.h5')"
   ]
  },
  {
   "cell_type": "markdown",
   "metadata": {},
   "source": [
    "## Create a deterministic prediction\n",
    "\n",
    "The model has been trained to create a deterministic prediction. For this dropout is turned off during test time. Let's create a prediction for the first sample. Thanks to Tensorflow 2 we can tread the model as a function just like in PyTorch."
   ]
  },
  {
   "cell_type": "code",
   "execution_count": 34,
   "metadata": {},
   "outputs": [],
   "source": [
    "pred = model(X[:1]).numpy().squeeze(); pred.shape; #added tf.enable_eager_execution() in src/networks.py line6. have to remove if you want to run ensemble prediction :(."
   ]
  },
  {
   "cell_type": "code",
   "execution_count": 35,
   "metadata": {},
   "outputs": [
    {
     "data": {
      "text/plain": [
       "<matplotlib.image.AxesImage at 0x1c4893df60>"
      ]
     },
     "execution_count": 35,
     "metadata": {},
     "output_type": "execute_result"
    },
    {
     "data": {
      "image/png": "[encoded data removed]",
      "text/plain": [
       "<Figure size 720x360 with 2 Axes>"
      ]
     },
     "metadata": {
      "needs_background": "light"
     },
     "output_type": "display_data"
    }
   ],
   "source": [
    "# Look at the predictions\n",
    "fig, (ax1, ax2) = plt.subplots(1, 2, figsize=(10, 5))\n",
    "ax1.matshow(pred[..., 0]) #z500 normalized\n",
    "ax2.matshow(pred[..., 1]) #t850 normalized\n"
   ]
  },
  {
   "cell_type": "markdown",
   "metadata": {},
   "source": [
    "Task: Can you figure out what is plotted in these two images? Hint: Check out what is happening in the data generator.\n",
    "Answer: z500, t850 normalized. BUt why? in create_predictions() function, dont we unnormalize them?"
   ]
  },
  {
   "cell_type": "markdown",
   "metadata": {},
   "source": [
    "## Create an ensemble using test-time dropout\n",
    "\n",
    "Now it's your turn. The pretrained model contains several dropout layers which are only active during training. Your job is to turn dropout on during inference as well. This should result in a model that creates a slightly different prediction every time. Hint: Google \"Keras test-time dropout\"."
   ]
  },
  {
   "cell_type": "code",
   "execution_count": 17,
   "metadata": {},
   "outputs": [],
   "source": [
    "##weirdly this function works when tf.enable_eager_execution() is diabled.\n",
    "#but 'pred' for single determinstic works when tf.enable_eager_execution() is enabled. \n",
    "#might be issue with tensorflow version. couldn't solve right now.\n",
    "\n",
    "#keras switches off test time dropout by default. we could either switch it on permanently.. by putting somewhere an argument training=true). this will put both training and testing to use dropout\n",
    "#but since we have a pre trained model, better just to activate dropout in testing rather than training again. beware: we also activate bacthnorm or any other that was inactive in test phase by default.\n",
    "#https://stackoverflow.com/questions/52756283/adding-dropout-to-testing-inference-phase\n",
    "from tensorflow.keras import backend as K\n",
    "func = K.function(model.inputs + [K.learning_phase()], model.outputs)"
   ]
  },
  {
   "cell_type": "code",
   "execution_count": 18,
   "metadata": {},
   "outputs": [
    {
     "name": "stdout",
     "output_type": "stream",
     "text": [
      "(32, 64, 2)\n"
     ]
    }
   ],
   "source": [
    "# to use dropout in testing phase, pass 1 to set the learning phase to training mode\n",
    "outputs = func([X[:1]] + [1.]) #for a single sample. #gives a new prediction each time.\n",
    "#reshape\n",
    "pred2 = np.asarray(outputs, dtype=np.float32).squeeze(); print(pred2.shape)\n",
    "#outputs"
   ]
  },
  {
   "cell_type": "code",
   "execution_count": 19,
   "metadata": {},
   "outputs": [
    {
     "data": {
      "text/plain": [
       "<matplotlib.image.AxesImage at 0x1c3d9565c0>"
      ]
     },
     "execution_count": 19,
     "metadata": {},
     "output_type": "execute_result"
    },
    {
     "data": {
      "image/png": "[encoded data removed]",
      "text/plain": [
       "<Figure size 720x360 with 2 Axes>"
      ]
     },
     "metadata": {
      "needs_background": "light"
     },
     "output_type": "display_data"
    }
   ],
   "source": [
    "# Look at the predictions\n",
    "fig, (ax1, ax2) = plt.subplots(1, 2, figsize=(10, 5))\n",
    "ax1.matshow(pred2[..., 0]) #z500 normalized\n",
    "ax2.matshow(pred2[..., 1]) #t850 normalized"
   ]
  },
  {
   "cell_type": "markdown",
   "metadata": {},
   "source": [
    "Once you have a model with test-time dropout on, create a bunch of forecasts (an ensemble) for the same input. Then pick one point on the map (bonus points if you pick the point closes to Munich!) and create a histogram of the temperature ensemble predictions.\n",
    "\n",
    "Next, remember that the features and targets were normalized inside the data generator. Can you recover the real units (Kelvin). This could be a little tricky, so no worries if you can't figure it out on your own) but if you check out the `create_predictions` function in `src/data_generator`, you will find the answer."
   ]
  },
  {
   "cell_type": "code",
   "execution_count": 29,
   "metadata": {},
   "outputs": [
    {
     "name": "stdout",
     "output_type": "stream",
     "text": [
      "(100, 32, 64, 2)\n"
     ]
    }
   ],
   "source": [
    "number_of_forecasts=100 #what is ideal?\n",
    "pred2_ensemble=np.ndarray(shape=(number_of_forecasts,32,64,2),dtype=np.float32)\n",
    "print(pred2_ensemble.shape)\n",
    "forecast_counter=np.zeros(number_of_forecasts,dtype=int)\n",
    "\n",
    "for i in range(number_of_forecasts):\n",
    "    outputs = func([X[:1]] + [1.]) #new prediction each time for same sample.\n",
    "    pred2 = np.asarray(outputs, dtype=np.float32).squeeze()\n",
    "    pred2_ensemble[i,:,:,:]=pred2\n",
    "    forecast_counter[i]=i+1\n",
    "    \n",
    "##pred2_ensemble[:,0,0,1] is t850"
   ]
  },
  {
   "cell_type": "code",
   "execution_count": 30,
   "metadata": {},
   "outputs": [
    {
     "name": "stdout",
     "output_type": "stream",
     "text": [
      "[255.50990006 254.10401384 256.04465724 255.11065869 255.88504589\n",
      " 252.11065259 254.91732837 254.54221094 255.72018453 254.76543585\n",
      " 253.75398211 255.40055857 255.38316329 255.90123516 255.39379395\n",
      " 253.51829954 254.67930005 256.3048954  254.36811236 254.18065493\n",
      " 255.37645357 254.36332809 254.84434128 255.53735234 255.37300594\n",
      " 254.7596065  256.38941056 254.78431355 255.16697941 255.06220258\n",
      " 254.50719318 253.61532158 254.85577468 254.36862354 254.33014301\n",
      " 253.79357776 255.37451298 255.45575469 255.03606043 255.17910196\n",
      " 256.20740951 254.49921498 255.23566124 255.44725774 255.33148863\n",
      " 256.0802335  254.77395173 256.0663294  254.67892898 256.21600491\n",
      " 254.46622302 254.07247022 254.09202193 254.30087888 256.2711537\n",
      " 256.48536669 255.62222911 254.32175776 255.11341907 254.1350406\n",
      " 255.47554495 254.28254454 253.88842824 255.02311621 255.17910575\n",
      " 256.53072733 256.22462682 253.9057156  255.27560714 255.0469145\n",
      " 255.01427847 254.59625785 254.9557521  254.66054731 255.55175816\n",
      " 252.89263744 253.20731253 254.62838081 253.75849754 257.00258471\n",
      " 252.30123201 255.46711426 253.83163799 255.44238827 255.2834282\n",
      " 254.83734    253.92815642 255.00818028 254.7727817  254.49517666\n",
      " 255.65814427 253.33357788 255.99334041 256.01864005 254.29427519\n",
      " 255.34997064 253.60873114 255.46542168 254.02024462 252.8316593 ]\n"
     ]
    }
   ],
   "source": [
    "#normalize\n",
    "pred2_ensemble=pred2_ensemble* dg_test.std.isel(level=dg_test.output_idxs).values+dg_test.mean.isel(level=dg_test.output_idxs).values\n",
    "print(pred2_ensemble[:,0,0,1]) #t850"
   ]
  },
  {
   "cell_type": "code",
   "execution_count": null,
   "metadata": {},
   "outputs": [],
   "source": [
    "#was trying to implement a rank histogram. couldn't. simply made a histogram\n",
    "# #!pip install git+https://github.com/oliverangelil/rankhistogram.git\n",
    "# !pip install rank-histogram\n",
    "\n",
    "# from ranky import rankz\n",
    "\n",
    "# #observation\n",
    "# obs=ds.t.isel(lat=lat_munich,lon=lon_munich).sel(level=850) #what should be observation size? i am taking data at all 8760 values available.\n",
    "# obs=np.asarray(obs, dtype=np.float32)\n",
    "# obs.shape\n",
    "\n",
    "# #ensemble\n",
    "# ensemble=pred2_ensemble[:,lat_munich,lon_munich,1]\n",
    "# ensemble.shape\n",
    "\n",
    "# #mask\n",
    "# #mask = np.random.randint(0, 2, 8760)\n",
    "# mask=np.ones(8760)\n",
    "\n",
    "# # feed into rankz function\n",
    "# result = rankz(obs, ensemble, mask)\n",
    "\n",
    "# # plot histogram\n",
    "# plt.bar(range(1,ensemble.shape[0]+2), result[0])\n",
    "\n",
    "# # view histogram\n",
    "# plt.show()"
   ]
  },
  {
   "cell_type": "markdown",
   "metadata": {},
   "source": [
    "The predictions of the model are pure numpy arrays. Maybe you find it helpful to convert them to an xarray Dataarray with coordinates."
   ]
  },
  {
   "cell_type": "code",
   "execution_count": 31,
   "metadata": {},
   "outputs": [
    {
     "data": {
      "text/html": [
       "<pre>&lt;xarray.Dataset&gt;\n",
       "Dimensions:          (forecast_number: 100, lat: 32, lon: 64)\n",
       "Coordinates:\n",
       "  * forecast_number  (forecast_number) int64 1 2 3 4 5 6 ... 95 96 97 98 99 100\n",
       "  * lat              (lat) float64 -87.19 -81.56 -75.94 ... 75.94 81.56 87.19\n",
       "  * lon              (lon) float64 0.0 5.625 11.25 16.88 ... 343.1 348.8 354.4\n",
       "Data variables:\n",
       "    z500             (forecast_number, lat, lon) float64 5.063e+04 ... 4.894e+04\n",
       "    t850             (forecast_number, lat, lon) float64 255.5 255.9 ... 248.5</pre>"
      ],
      "text/plain": [
       "<xarray.Dataset>\n",
       "Dimensions:          (forecast_number: 100, lat: 32, lon: 64)\n",
       "Coordinates:\n",
       "  * forecast_number  (forecast_number) int64 1 2 3 4 5 6 ... 95 96 97 98 99 100\n",
       "  * lat              (lat) float64 -87.19 -81.56 -75.94 ... 75.94 81.56 87.19\n",
       "  * lon              (lon) float64 0.0 5.625 11.25 16.88 ... 343.1 348.8 354.4\n",
       "Data variables:\n",
       "    z500             (forecast_number, lat, lon) float64 5.063e+04 ... 4.894e+04\n",
       "    t850             (forecast_number, lat, lon) float64 255.5 255.9 ... 248.5"
      ]
     },
     "execution_count": 31,
     "metadata": {},
     "output_type": "execute_result"
    }
   ],
   "source": [
    "#converting from numpy to xarray\n",
    "z500=xr.DataArray(pred2_ensemble[...,0],dims=['forecast_number','lat','lon'],coords={'forecast_number':forecast_counter,'lat':dg_test.data.lat,'lon':dg_test.data.lon},)\n",
    "t850=xr.DataArray(pred2_ensemble[...,1],dims=['forecast_number','lat','lon'],coords={'forecast_number':forecast_counter,'lat':dg_test.data.lat,'lon':dg_test.data.lon},)\n",
    "pred2_ensemble=xr.Dataset(data_vars={'z500': (('forecast_number','lat','lon'),z500),\n",
    "                                    't850':(('forecast_number','lat','lon'),t850)},\n",
    "                          coords={'forecast_number':forecast_counter,'lat':dg_test.data.lat,'lon':dg_test.data.lon})\n",
    "pred2_ensemble"
   ]
  },
  {
   "cell_type": "code",
   "execution_count": 32,
   "metadata": {},
   "outputs": [
    {
     "data": {
      "text/plain": [
       "(array([ 4., 11., 10., 21., 15., 14., 13.,  6.,  3.,  3.]),\n",
       " array([270.18618014, 270.88797165, 271.58976316, 272.29155466,\n",
       "        272.99334617, 273.69513768, 274.39692919, 275.0987207 ,\n",
       "        275.80051221, 276.50230372, 277.20409523]),\n",
       " <a list of 10 Patch objects>)"
      ]
     },
     "execution_count": 32,
     "metadata": {},
     "output_type": "execute_result"
    },
    {
     "data": {
      "image/png": "[encoded data removed]",
      "text/plain": [
       "<Figure size 432x288 with 1 Axes>"
      ]
     },
     "metadata": {
      "needs_background": "light"
     },
     "output_type": "display_data"
    }
   ],
   "source": [
    "lat_munich=48.13743; lon_munich=11.57549 #find point closest to munich\n",
    "pred2_ensemble.t850.sel(lat=lat_munich, lon=lon_munich, method='nearest').plot.hist()\n",
    "#so the most likely prediction is 272.29K"
   ]
  },
  {
   "cell_type": "code",
   "execution_count": 33,
   "metadata": {},
   "outputs": [
    {
     "data": {
      "text/plain": [
       "(array([ 5.,  5.,  5., 14., 19., 13.,  8., 14.,  9.,  8.]),\n",
       " array([52556.99694853, 52740.28442274, 52923.57189694, 53106.85937114,\n",
       "        53290.14684534, 53473.43431955, 53656.72179375, 53840.00926795,\n",
       "        54023.29674215, 54206.58421636, 54389.87169056]),\n",
       " <a list of 10 Patch objects>)"
      ]
     },
     "execution_count": 33,
     "metadata": {},
     "output_type": "execute_result"
    },
    {
     "data": {
      "image/png": "[encoded data removed]",
      "text/plain": [
       "<Figure size 432x288 with 1 Axes>"
      ]
     },
     "metadata": {
      "needs_background": "light"
     },
     "output_type": "display_data"
    }
   ],
   "source": [
    "pred2_ensemble.z500.sel(lat=lat_munich, lon=lon_munich, method='nearest').plot.hist()\n"
   ]
  },
  {
   "cell_type": "code",
   "execution_count": 34,
   "metadata": {},
   "outputs": [
    {
     "data": {
      "text/plain": [
       "<matplotlib.image.AxesImage at 0x1c3f5de4a8>"
      ]
     },
     "execution_count": 34,
     "metadata": {},
     "output_type": "execute_result"
    },
    {
     "data": {
      "image/png": "[encoded data removed]",
      "text/plain": [
       "<Figure size 720x360 with 2 Axes>"
      ]
     },
     "metadata": {
      "needs_background": "light"
     },
     "output_type": "display_data"
    }
   ],
   "source": [
    "#plotting mean graph for all lat,lon\n",
    "fig, (ax1, ax2) = plt.subplots(1, 2, figsize=(10, 5))\n",
    "ax1.matshow(pred2_ensemble.z500.mean('forecast_number')) #z500 \n",
    "ax2.matshow(pred2_ensemble.t850.mean('forecast_number')) #t850 \n",
    "#behaviour similar to deterministic prediction"
   ]
  },
  {
   "cell_type": "code",
   "execution_count": 35,
   "metadata": {},
   "outputs": [
    {
     "data": {
      "text/plain": [
       "<matplotlib.collections.QuadMesh at 0x1c3edbaa90>"
      ]
     },
     "execution_count": 35,
     "metadata": {},
     "output_type": "execute_result"
    },
    {
     "data": {
      "image/png": "[encoded data removed]",
      "text/plain": [
       "<Figure size 432x288 with 2 Axes>"
      ]
     },
     "metadata": {
      "needs_background": "light"
     },
     "output_type": "display_data"
    }
   ],
   "source": [
    "#plotting std\n",
    "pred2_ensemble.t850.std('forecast_number').plot()\n",
    "#we see ensemble predictions are better at upto 20 degree latitude. \n",
    "#Because there is a sharp drop in temperature from tropics to temperate zones?"
   ]
  },
  {
   "cell_type": "code",
   "execution_count": null,
   "metadata": {},
   "outputs": [],
   "source": []
  }
 ],
 "metadata": {
  "kernelspec": {
   "display_name": "Python 3",
   "language": "python",
   "name": "python3"
  },
  "language_info": {
   "codemirror_mode": {
    "name": "ipython",
    "version": 3
   },
   "file_extension": ".py",
   "mimetype": "text/x-python",
   "name": "python",
   "nbconvert_exporter": "python",
   "pygments_lexer": "ipython3",
   "version": "3.7.3"
  }
 },
 "nbformat": 4,
 "nbformat_minor": 4
}
